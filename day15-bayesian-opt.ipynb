{
 "cells": [
  {
   "cell_type": "markdown",
   "metadata": {},
   "source": [
    "## ベイズ的最適化\n",
    "- ある関数の計算が重いとき、近似しないとどうしようもないことがある。\n",
    "- **Gaussian Process**を使って関数近似をしながら最適化をする\n",
    "\n",
    "手順\n",
    "\n",
    "1. 評価関数f(x)を用意する\n",
    "2. $\\mu$と$\\sigma$を、Gaussian Processにて計算する(UCBの場合)\n",
    "    - $\\mu_{t-1}(x)+\\sqrt{\\beta}\\sigma_{t-1}(x)$が近似式、$\\beta$は定数\n",
    "3. $x_t = \\mathrm{argmax} \\mu_{t-1}(x)+\\sqrt{\\beta}\\sigma_{t-1}(x)$\n",
    "4. 評価関数に入れて、新しい点$(x_{t},f(x_t))$を得る\n",
    "5. 2から4の繰り返し\n",
    "\n"
   ]
  },
  {
   "cell_type": "code",
   "execution_count": null,
   "metadata": {},
   "outputs": [],
   "source": [
    "%matplotlib inline\n",
    "import pandas as pd\n",
    "import numpy as np\n",
    "import matplotlib.pyplot as plt\n",
    "from datetime import datetime\n",
    "def str2time(string):\n",
    "    return datetime.strptime(string, '%Y/%m/%d')\n",
    "# df = pd.read_csv(\"day14-3765-2017.csv\")\n",
    "df_orig = pd.read_csv(\"stock_nikkei_3yrs.csv\")\n",
    "df_orig.index = df_orig.date.apply(str2time)\n",
    "df_orig = df_orig.sort_index(ascending=True)\n",
    "df_orig.head()"
   ]
  },
  {
   "cell_type": "markdown",
   "metadata": {},
   "source": [
    "## 評価関数\n",
    "- 100株&100万円からスタート\n",
    "- ゴールデンクロスで買い(全資産)、デッドクロスで売り(全株)\n",
    "- 2017/12/13時点で株を全部売り\n",
    "- 評価値は、何%資産が増えたか\n"
   ]
  },
  {
   "cell_type": "code",
   "execution_count": null,
   "metadata": {},
   "outputs": [],
   "source": [
    "import GPy\n",
    "import GPyOpt\n",
    "def f_2D(windows):\n",
    "    window1, window2 = windows[0]\n",
    "    window1 = int(window1)\n",
    "    window2 = int(window2)\n",
    "#     df1 = df_orig.sort_values(by=\"date\")\n",
    "    df1 = df_orig.sort_index(ascending=True)\n",
    "    df1[\"ma1\"] = df1.close.rolling(window=window1).mean()\n",
    "    df1[\"ma2\"] = df1.close.rolling(window=window2).mean()\n",
    "    df1[\"diff\"] = df1.ma1-df1.ma2\n",
    "    # df1 = df.date.apply(datetime.timestamp())\n",
    "    df1[\"unixtime\"] = [datetime.timestamp(t) for t in df_orig.index]\n",
    "    asset = np.array([1000000, 100])\n",
    "    first = asset[0]+asset[1]*df1.iloc[0][\"close\"]\n",
    "    for i in range(1, len(df1)):\n",
    "        if df1.iloc[i-1][\"diff\"] < 0 and df1.iloc[i][\"diff\"] > 0:\n",
    "            if asset[0] != 0:\n",
    "                asset[1] += asset[0]/df1.iloc[i][\"close\"]\n",
    "                asset[0] = 0\n",
    "        if df1.iloc[i-1][\"diff\"] > 0 and df1.iloc[i][\"diff\"] < 0:\n",
    "            if asset[1] != 0:\n",
    "                asset[0] += asset[1]*df1.iloc[i][\"close\"]\n",
    "                asset[1] = 0\n",
    "    last = asset[0]+asset[1]*df1.iloc[-1][\"close\"]\n",
    "    print(\"window1:{} window2:{} result : {}\".format(window1, window2,((last/first)-1)*100))\n",
    "    return -((last/first)-1)*100"
   ]
  },
  {
   "cell_type": "markdown",
   "metadata": {},
   "source": [
    "## 最適化のsetting"
   ]
  },
  {
   "cell_type": "code",
   "execution_count": null,
   "metadata": {},
   "outputs": [],
   "source": [
    "# create the object function\n",
    "bounds =[{'name': 'var_1', 'type': 'continuous', 'domain': (3,300)},\n",
    "         {'name': 'var_2', 'type': 'continuous', 'domain': (3,300)}]\n",
    "# Creates three identical objects that we will later use to compare the optimization strategies \n",
    "max_iter = 50\n",
    "max_time = 60  # maximum time 60 seconds\n",
    "myBopt2D = GPyOpt.methods.BayesianOptimization(f=f_2D,\n",
    "                                              domain=bounds,\n",
    "                                              model_type = 'GP',\n",
    "                                              acquisition_type='EI',\n",
    "                                              acquisition_weight=2,\n",
    "                                              kernel=GPy.kern.Matern52(input_dim=2))\n",
    "#                                               normalize_Y = True,)\n",
    "myBopt2D.run_optimization(max_iter,max_time,verbosity=False)\n",
    "myBopt2D.plot_acquisition()\n",
    "print(\"opt (window,value) = ({},{:.3f})\".format(myBopt2D.x_opt,float(myBopt2D.fx_opt[0])*-1))"
   ]
  },
  {
   "cell_type": "markdown",
   "metadata": {},
   "source": [
    "## ゴールデンクロスの確認"
   ]
  },
  {
   "cell_type": "code",
   "execution_count": null,
   "metadata": {},
   "outputs": [],
   "source": [
    "def plot_MA(windows):\n",
    "    window1, window2 = windows\n",
    "    print(window1,window2)\n",
    "    window1 = int(window1)\n",
    "    window2 = int(window2)\n",
    "    df1 = df_orig.sort_index(ascending=True)\n",
    "    xdate = [x.date() for x in df1.index]\n",
    "    df1[\"ma1\"] = df1.close.rolling(window=window1).mean()\n",
    "    df1[\"ma2\"] = df1.close.rolling(window=window2).mean()\n",
    "    df1[\"diff\"] = df1.ma1-df1.ma2\n",
    "    plt.figure(figsize=(15,5))\n",
    "    plt.plot(xdate, df1.close,label=\"original\")\n",
    "    plt.plot(xdate, df1.ma2,label=\"{}days\".format(window2))\n",
    "    plt.plot(xdate, df1.ma1,label=\"{}days\".format(window1))\n",
    "    plt.legend()\n",
    "    asset = np.array([1000000, 100])\n",
    "    first = asset[0]+asset[1]*df1.iloc[0][\"close\"]\n",
    "    print(\"First Asset:{}\".format(first))\n",
    "    for i in range(1, len(df1)):\n",
    "        if df1.iloc[i-1][\"diff\"] < 0 and df1.iloc[i][\"diff\"] > 0:\n",
    "            print(\"{}:GOLDEN CROSS at {}\".format(df1.iloc[i][\"date\"],df1.iloc[i][\"close\"]))\n",
    "            plt.scatter(xdate[i],df1.iloc[i][\"ma1\"],marker=\"o\",s=100,color=\"b\")\n",
    "            plt.scatter(xdate[i],df1.iloc[i][\"close\"],marker=\"o\",s=50,color=\"b\",alpha=0.5)\n",
    "            if asset[0] != 0:\n",
    "                asset[1] += asset[0]/df1.iloc[i][\"close\"]\n",
    "                asset[0] = 0\n",
    "                print(asset)\n",
    "        if df1.iloc[i-1][\"diff\"] > 0 and df1.iloc[i][\"diff\"] < 0:\n",
    "            print(\"{}:DEAD  CROSS at {}\".format(df1.iloc[i][\"date\"],df1.iloc[i][\"close\"]))\n",
    "            plt.scatter(xdate[i],df1.iloc[i][\"close\"],marker=\"o\",s=100,color=\"r\")\n",
    "            plt.scatter(xdate[i],df1.iloc[i][\"close\"],marker=\"o\",s=50,color=\"r\",alpha=0.5)\n",
    "            if asset[1] != 0:\n",
    "                asset[0] += asset[1]*df1.iloc[i][\"close\"]\n",
    "                asset[1] = 0\n",
    "                print(asset)\n",
    "    last = asset[0]+asset[1]*df1.iloc[-1][\"close\"]\n",
    "    print(\"Final Asset: {}\".format(last))\n",
    "    return ((last/first)-1)*100\n",
    "plot_MA(myBopt2D.x_opt)"
   ]
  }
 ],
 "metadata": {
  "kernelspec": {
   "display_name": "Python 3",
   "language": "python",
   "name": "python3"
  },
  "language_info": {
   "codemirror_mode": {
    "name": "ipython",
    "version": 3
   },
   "file_extension": ".py",
   "mimetype": "text/x-python",
   "name": "python",
   "nbconvert_exporter": "python",
   "pygments_lexer": "ipython3",
   "version": "3.6.1"
  }
 },
 "nbformat": 4,
 "nbformat_minor": 2
}
