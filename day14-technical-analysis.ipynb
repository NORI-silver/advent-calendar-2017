{
 "cells": [
  {
   "cell_type": "markdown",
   "metadata": {},
   "source": [
    "## テクニカル分析指標"
   ]
  },
  {
   "cell_type": "markdown",
   "metadata": {},
   "source": [
    "[FXトレーダーが良く使うテクニカル指標](https://www.fxciao.com/fx-data/enquete/641/)より\n",
    "\n",
    "|順位|テクニカル指標|割合|\n",
    "|---|---|---|\n",
    "|1位\t|移動平均線\t|36.6％|\n",
    "|2位\t|ボリンジャーバンド|\t17.1％|\n",
    "|3位\t|MACD\t|13.2％|\n",
    "|4位\t|RSI|\t8.4％|\n",
    "|5位\t|一目均衡表|\t8.4％|\n",
    "|6位\t|ストキャスティクス|\t7.1％|\n",
    "|7位\t|フィボナッチ\t|2.9％|\n",
    "|8位|\tその他|\t6.3％|\n"
   ]
  },
  {
   "cell_type": "code",
   "execution_count": null,
   "metadata": {
    "collapsed": false
   },
   "outputs": [],
   "source": [
    "%matplotlib inline\n",
    "import pandas as pd\n",
    "import numpy as np\n",
    "import matplotlib.pyplot as plt\n",
    "from datetime import datetime\n",
    "plt.xkcd()\n",
    "def str2time(string):\n",
    "    return datetime.strptime(string, '%Y/%m/%d')\n",
    "# df = pd.read_csv(\"day14-3765-2017.csv\")\n",
    "df_orig = pd.read_csv(\"stock_nikkei_3yrs.csv\")\n",
    "df_orig.index = df_orig.date.apply(str2time)\n",
    "df_orig = df_orig.sort_index(ascending=True)\n",
    "df_orig.head()"
   ]
  },
  {
   "cell_type": "code",
   "execution_count": null,
   "metadata": {
    "collapsed": false
   },
   "outputs": [],
   "source": [
    "# ローソク足\n",
    "plt.figure(figsize=(15,5))\n",
    "plt.plot(df_orig.index,df_orig.open,\"-\",lw=1,color=\"red\")\n",
    "plt.plot(df_orig.index,df_orig.close,\"-\",lw=1,color=\"blue\")\n",
    "plt.fill_between(df_orig.index, df_orig.low,df_orig.high,color=\"gray\",alpha=0.5)\n",
    "# tool for finance\n",
    "import matplotlib.finance as mpf\n",
    "from matplotlib.dates import date2num\n",
    "df = df_orig[df_orig.index >= datetime(2017,7,1)]\n",
    "df_ohlc = pd.DataFrame(df[[\"open\",\"high\",\"low\",\"close\"]])\n",
    "xdate = [x.date() for x in df_ohlc.index] #Timestamp -> datetime\n",
    "ohlc = np.vstack((date2num(xdate), df_ohlc.values.T)).T #datetime -> float\n",
    "\n",
    "fig = plt.figure(figsize=(15,5))\n",
    "ax = plt.subplot()\n",
    "mpf.candlestick_ohlc(ax, ohlc, width=0.7, colorup='b', colordown='r')\n",
    "ax.grid() #グリッド表示\n",
    "ax.set_xlim(xdate[0], xdate[-1]) #x軸の範囲\n",
    "fig.autofmt_xdate() #x軸のオートフォーマット"
   ]
  },
  {
   "cell_type": "markdown",
   "metadata": {},
   "source": [
    "## ゴールデンクロス、デッドクロス\n",
    "> \"ゴールデンクロス\"は株価が下落した後に短期の移動平均線が、長期の移動平均線を下から上に抜ける現象をいいます。逆に\"デッドクロス\"は株価が上昇した後に短期の移動平均線が、長期の移動平均線を上から下に抜ける現象をいいます。\n",
    "\n",
    "- 日足の場合、短期が25日、長期が75日\n",
    "- 週足の場合、短期が13週、長期が26週\n"
   ]
  },
  {
   "cell_type": "code",
   "execution_count": null,
   "metadata": {
    "collapsed": false
   },
   "outputs": [],
   "source": [
    "df1 = df_orig.sort_index()\n",
    "df1[\"ma25\"] = df1.close.rolling(window=25).mean()\n",
    "df1[\"ma75\"] = df1.close.rolling(window=75).mean()\n",
    "df1[\"diff\"] = df1.ma25-df1.ma75\n",
    "# df1 = df.date.apply(datetime.timestamp())\n",
    "df1[\"unixtime\"] = [datetime.timestamp(t) for t in df_orig.index]\n",
    "plt.figure(figsize=(15,5))\n",
    "\n",
    "\n",
    "xdate = [x.date() for x in df1.index]\n",
    "# line and Moving Average\n",
    "plt.plot(xdate, df1.close,label=\"original\")\n",
    "plt.plot(xdate, df1.ma75,label=\"75days\")\n",
    "plt.plot(xdate, df1.ma25,label=\"25days\")\n",
    "plt.xlim(xdate[0],xdate[-1])\n",
    "\n",
    "\n",
    "#Cross\n",
    "for i in range(1, len(df1)):\n",
    "    if df1.iloc[i-1][\"diff\"] < 0 and df1.iloc[i][\"diff\"] > 0:\n",
    "        print(\"{}:GOLDEN CROSS\".format(df1.iloc[i][\"date\"]))\n",
    "        plt.scatter(df1.iloc[i][\"date\"],df1.iloc[i][\"ma25\"],marker=\"o\",s=100,color=\"b\")\n",
    "        plt.scatter(df1.iloc[i][\"date\"],df1.iloc[i][\"close\"],marker=\"o\",s=50,color=\"b\",alpha=0.5)\n",
    "\n",
    "    if df1.iloc[i-1][\"diff\"] > 0 and df1.iloc[i][\"diff\"] < 0:\n",
    "        print(\"{}:DEAD CROSS\".format(df1.iloc[i][\"date\"]))\n",
    "        plt.scatter(df1.iloc[i][\"date\"],df1.iloc[i][\"ma25\"],marker=\"o\",s=100,color=\"r\")\n",
    "        plt.scatter(df1.iloc[i][\"date\"],df1.iloc[i][\"close\"],marker=\"o\",s=50,color=\"r\",alpha=0.5)\n",
    "plt.legend()"
   ]
  },
  {
   "cell_type": "markdown",
   "metadata": {},
   "source": [
    "## ボリンジャーバンド\n",
    "$1\\sigma, 2\\sigma, 3\\sigma$線を移動平均に引く\n",
    "\n",
    "- $1\\sigma$ : 67%の確率でそこに収まる\n",
    "- $2\\sigma$ : 95%\n",
    "- $3\\sigma$ : 99%\n",
    "\n",
    "正規分布を仮定しているので、\n",
    "ここから外れた = 釣り合いが破れているということ。\n",
    "\n",
    "不安定だが、売買のチャンスともいえる"
   ]
  },
  {
   "cell_type": "code",
   "execution_count": null,
   "metadata": {
    "collapsed": true
   },
   "outputs": [],
   "source": [
    "def Bollinger(df,window=25):\n",
    "    df1 = df.copy()\n",
    "    df1[\"ma\"] = df1.close.rolling(window=window).mean()\n",
    "    df1[\"sigma\"] =  df1.close.rolling(window=window).std()\n",
    "    df1[\"ma+2sigma\"] = df1.ma + 2*df1.sigma\n",
    "    df1[\"ma-2sigma\"] = df1.ma - 2*df1.sigma\n",
    "    df1[\"diffplus\"] = df1.close - df1[\"ma+2sigma\"] \n",
    "    df1[\"diffminus\"] = df1[\"ma-2sigma\"] - df1.close\n",
    "    s_up = df1[df1[\"diffplus\"]>0][\"close\"]\n",
    "    s_down = df1[df1[\"diffminus\"]>0][\"close\"]\n",
    "\n",
    "    plt.figure(figsize=(15,5))\n",
    "    plt.scatter(s_up.index, s_up.values,marker=\"x\",s=100,color=\"blue\")\n",
    "    plt.scatter(s_down.index, s_down.values,marker=\"x\",s=100,color=\"red\")\n",
    "    xdate = [x.date() for x in df1.index]\n",
    "    plt.plot(xdate, df1.close.values,label=\"close\",color=\"b\",alpha=0.8)\n",
    "    plt.plot(xdate,df1.ma.values,label=\"{}ma\".format(window))\n",
    "    plt.fill_between(xdate, df1.ma-df1.sigma,df1.ma+df1.sigma,color=\"red\", alpha=0.7, label=\"$1\\sigma$\")\n",
    "    plt.fill_between(xdate, df1.ma-2*df1.sigma,df1.ma+2*df1.sigma,color=\"red\", alpha=0.3, label=\"$2\\sigma$\")\n",
    "#     plt.fill_between(xdate, df1.ma-3*df1.sigma,df1.ma+3*df1.sigma,color=\"red\", alpha=0.3, label=\"$3\\sigma$\")    \n",
    "\n",
    "    plt.legend()\n",
    "    plt.xlim(xdate[0],xdate[-1])"
   ]
  },
  {
   "cell_type": "code",
   "execution_count": null,
   "metadata": {
    "collapsed": false
   },
   "outputs": [],
   "source": [
    "Bollinger(df_orig,window=25)"
   ]
  },
  {
   "cell_type": "markdown",
   "metadata": {},
   "source": [
    "## RSI\n",
    "\n",
    "[参考](https://kabu.com/investment/guide/technical/08.html?FontSize=2)\n",
    "\n",
    "|線|性質|\n",
    "|---|---|\n",
    "|転換線|(9日間の高値+9日間の安値)÷2|\n",
    "|基準線|(26日間の高値+26日間の安値)÷2|\n",
    "|先行スパン1|(転換線+基準線)÷2を26日先|\n",
    "|先行スパン2|(52日間の高値+52日間の安値)÷2を26日先|\n",
    "|遅行スパン|当日の終値を26日前|\n",
    "\n",
    "売買の目安としてはRSIの数値が70%以上になると買われ過ぎゾーン、逆に30%以下になると売られ過ぎゾーンに入るとされています。\n",
    "そして、それぞれのゾーンに入った後に反転した動きになったところで買われ過ぎゾーンの時は“売り”を、売られ過ぎゾーンの時は“買い”を考えるとされています。\n",
    "つまり、RSIの冒頭で述べました「買われ過ぎ」、「売られ過ぎ」を感覚的なものではなく数値で把握するというものです。上図のグラフを見て確認してみてください。"
   ]
  },
  {
   "cell_type": "code",
   "execution_count": null,
   "metadata": {
    "collapsed": true
   },
   "outputs": [],
   "source": [
    "def plot_RSI(df,window):\n",
    "    diff = df_orig.close.diff(periods=1).values\n",
    "    xdate = [x.date() for x in df_orig.index]\n",
    "    RSI = []\n",
    "    for i in range(window+1,len(xdate)):\n",
    "        neg = 0\n",
    "        pos = 0\n",
    "        for value in diff[i-window:i+1]:\n",
    "            if value > 0:\n",
    "                pos += value\n",
    "            if value < 0:\n",
    "                neg += value\n",
    "        pos_ave = pos/window\n",
    "        neg_ave = np.abs(neg/window)\n",
    "        rsi = pos_ave/(pos_ave+neg_ave)*100\n",
    "        RSI.append(rsi)\n",
    "    #RSIのグラフ描画\n",
    "    plt.plot(xdate[window+1:], RSI,label=\"RSI {}\".format(window),lw=2.5,alpha=0.6)\n",
    "    plt.xlim(xdate[window+1],xdate[-1])\n",
    "    plt.ylim(0,100)\n",
    "    plt.legend()"
   ]
  },
  {
   "cell_type": "code",
   "execution_count": null,
   "metadata": {
    "collapsed": false
   },
   "outputs": [],
   "source": [
    "xdate = [x.date() for x in df_orig.index]\n",
    "plt.figure(figsize=(15,5))\n",
    "plt.title(\"RSI\")\n",
    "plot_RSI(df_orig,window=14)\n",
    "plot_RSI(df_orig,window=28)\n",
    "plot_RSI(df_orig,window=105)\n",
    "plt.fill_between(xdate,np.ones(len(xdate))*30,color=\"red\",alpha=0.2)\n",
    "plt.fill_between(xdate,np.ones(len(xdate))*70,np.ones(len(xdate))*100,color=\"blue\",alpha=0.2)\n",
    "plt.plot(xdate,np.ones(len(xdate))*30,color=\"red\",linestyle=\"dotted\")\n",
    "plt.plot(xdate,np.ones(len(xdate))*70,color=\"blue\",linestyle=\"dotted\")\n",
    "plt.show()"
   ]
  },
  {
   "cell_type": "markdown",
   "metadata": {
    "collapsed": true
   },
   "source": [
    "## 一目均衡表"
   ]
  },
  {
   "cell_type": "code",
   "execution_count": null,
   "metadata": {
    "collapsed": false
   },
   "outputs": [],
   "source": [
    "\n",
    "df_orig = pd.read_csv(\"stock_nikkei_3yrs.csv\")\n",
    "df_orig.index = df_orig.date.apply(str2time)\n",
    "df_orig = df_orig.sort_index(ascending=True)\n",
    "\n",
    "max_9 = df_orig.high.rolling(window=9).max()\n",
    "min_9 = df_orig.high.rolling(window=9).min()\n",
    "df_orig[\"tenkan\"] = (max_9+min_9)/2\n",
    "df_orig[\"base\"] = (df_orig.high.rolling(window=26).max()+df_orig.high.rolling(window=26).min())/2\n",
    "xdate = [x.date() for x in df_orig.index]\n",
    "\n",
    "plt.figure(figsize=(15,5))\n",
    "plt.plot(xdate, df_orig.close,color=\"b\",lw=1,linestyle=\"dotted\",label=\"Close\")\n",
    "plt.plot(xdate, df_orig.tenkan,label=\"Conversion line\")\n",
    "plt.plot(xdate, df_orig.base,label=\"Base line\")\n",
    "senkou1 = ((df_orig.tenkan+df_orig.base)/2).iloc[:-26]\n",
    "senkou2 = ((df_orig.high.rolling(window=52).max()+df_orig.high.rolling(window=52).min())/2).iloc[:-26]\n",
    "plt.fill_between(xdate[26:], senkou1, senkou2, where=senkou2 >= senkou1, color=\"red\",alpha=0.5,label=\"Cloud\")\n",
    "plt.fill_between(xdate[26:], senkou2, senkou1, where=senkou2 <= senkou1, color=\"blue\",alpha=0.5,label=\"Cloud\")\n",
    "plt.legend(loc=4)\n",
    "plt.xlim(xdate[0],xdate[-1])\n"
   ]
  },
  {
   "cell_type": "code",
   "execution_count": null,
   "metadata": {
    "collapsed": true
   },
   "outputs": [],
   "source": []
  }
 ],
 "metadata": {
  "anaconda-cloud": {},
  "kernelspec": {
   "display_name": "Python [Root]",
   "language": "python",
   "name": "Python [Root]"
  },
  "language_info": {
   "codemirror_mode": {
    "name": "ipython",
    "version": 3
   },
   "file_extension": ".py",
   "mimetype": "text/x-python",
   "name": "python",
   "nbconvert_exporter": "python",
   "pygments_lexer": "ipython3",
   "version": "3.5.1"
  }
 },
 "nbformat": 4,
 "nbformat_minor": 2
}
