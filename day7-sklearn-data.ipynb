{
 "cells": [
  {
   "cell_type": "markdown",
   "metadata": {},
   "source": [
    "## day7\n",
    "sklearnのデータ\n"
   ]
  },
  {
   "cell_type": "code",
   "execution_count": null,
   "metadata": {
    "collapsed": true
   },
   "outputs": [],
   "source": [
    "%matplotlib inline\n",
    "import matplotlib.pyplot as plt\n",
    "from sklearn import datasets"
   ]
  },
  {
   "cell_type": "markdown",
   "metadata": {},
   "source": [
    "## シングルラベル"
   ]
  },
  {
   "cell_type": "code",
   "execution_count": null,
   "metadata": {
    "collapsed": true
   },
   "outputs": [],
   "source": [
    "base_colors = [\"r\",\"g\",\"b\",\"y\",\"k\"]\n",
    "plt.subplots(figsize=(12,18))\n",
    "# make blobs http://scikit-learn.org/stable/modules/generated/sklearn.datasets.make_blobs.html#sklearn.datasets.make_blobs \n",
    "plt.subplot(321)\n",
    "data, target = datasets.make_blobs(n_samples=300, n_features=2, centers=3, cluster_std=1.0, center_box=(-10.0, 10.0), shuffle=True, random_state=None)\n",
    "colors = [base_colors[class_] for class_ in target]\n",
    "plt.scatter(data.T[0],data.T[1],color=colors, alpha=0.5)\n",
    "plt.title(\"blobs\")\n",
    "# make classification http://scikit-learn.org/stable/modules/generated/sklearn.datasets.make_classification.html#sklearn.datasets.make_classification\n",
    "plt.subplot(322)\n",
    "data, target = datasets.make_classification(n_samples=500, n_features=20, n_informative=5, n_redundant=2, n_repeated=0, n_classes=3, n_clusters_per_class=1, weights=None, flip_y=0.01, class_sep=1.0, hypercube=True, shift=0.0, scale=1.0, shuffle=True, random_state=None)\n",
    "colors = [base_colors[class_] for class_ in target]\n",
    "plt.scatter(data.T[0],data.T[1],color=colors, alpha=0.5)\n",
    "plt.title(\"classification\")\n",
    "# make gaussian cluster http://scikit-learn.org/stable/modules/generated/sklearn.datasets.make_gaussian_quantiles.html#sklearn.datasets.make_gaussian_quantiles\n",
    "plt.subplot(323)\n",
    "data, target = datasets.make_gaussian_quantiles(mean=None, cov=1.0, n_samples=500, n_features=2, n_classes=3, shuffle=True, random_state=None)\n",
    "colors = [base_colors[class_] for class_ in target]\n",
    "plt.scatter(data.T[0],data.T[1],color=colors, alpha=0.5)\n",
    "plt.title(\"gaussian cluster\")\n",
    "# hastie_10_2 http://scikit-learn.org/stable/modules/generated/sklearn.datasets.make_hastie_10_2.html#sklearn.datasets.make_hastie_10_2\n",
    "plt.subplot(324)\n",
    "data, target = datasets.make_hastie_10_2(n_samples=2000, random_state=None)\n",
    "colors = [base_colors[class_] for class_ in target.astype(int)]\n",
    "plt.scatter(data.T[0],data.T[1],color=colors, alpha=0.5)\n",
    "plt.title(\"hastie\")\n",
    "# circles http://scikit-learn.org/stable/modules/generated/sklearn.datasets.make_circles.html#sklearn.datasets.make_circles\n",
    "plt.subplot(325)\n",
    "data,target = datasets.make_circles(n_samples=100, shuffle=True, noise=None, random_state=None, factor=0.8)\n",
    "colors = [base_colors[class_] for class_ in target.astype(int)]\n",
    "plt.scatter(data.T[0],data.T[1],color=colors, alpha=0.5)\n",
    "plt.title(\"circles\")\n",
    "# moons http://scikit-learn.org/stable/modules/generated/sklearn.datasets.make_moons.html#sklearn.datasets.make_moons\n",
    "plt.subplot(326)\n",
    "data,target = datasets.make_moons(n_samples=100, shuffle=True, noise=None, random_state=None)\n",
    "colors = [base_colors[class_] for class_ in target.astype(int)]\n",
    "plt.scatter(data.T[0],data.T[1],color=colors, alpha=0.5)\n",
    "plt.title(\"moon\")"
   ]
  },
  {
   "cell_type": "markdown",
   "metadata": {},
   "source": [
    "## マルチラベル"
   ]
  },
  {
   "cell_type": "code",
   "execution_count": null,
   "metadata": {
    "collapsed": true
   },
   "outputs": [],
   "source": [
    "data, target = datasets.make_multilabel_classification(n_samples=100, n_features=20, n_classes=5, n_labels=3, length=50, allow_unlabeled=True, sparse=False, return_indicator=\"dense\", return_distributions=False, random_state=None)\n",
    "print(\"data:\",data[0])\n",
    "print(\"label:\",target[0])"
   ]
  },
  {
   "cell_type": "markdown",
   "metadata": {},
   "source": [
    "## biclusters\n",
    "biclustering用のデータ [(参考)](http://scikit-learn.org/stable/auto_examples/bicluster/plot_spectral_coclustering.html#sphx-glr-auto-examples-bicluster-plot-spectral-coclustering-py)"
   ]
  },
  {
   "cell_type": "code",
   "execution_count": null,
   "metadata": {
    "collapsed": true
   },
   "outputs": [],
   "source": [
    "from sklearn.datasets import samples_generator as sg\n",
    "data, rows, columns = datasets.make_biclusters(\n",
    "    shape=(300, 300), n_clusters=5, noise=5,\n",
    "    shuffle=False, random_state=0)\n",
    "plt.matshow(data, cmap=plt.cm.Blues)\n",
    "plt.title(\"Original dataset\")\n",
    "data, row_idx, col_idx = sg._shuffle(data, random_state=0)\n",
    "plt.matshow(data, cmap=plt.cm.Blues)\n",
    "plt.title(\"Shuffled dataset\")"
   ]
  },
  {
   "cell_type": "markdown",
   "metadata": {},
   "source": [
    "## Manifold\n",
    "Sカーブ(`make_s_curve`)や、Swissroll(`make_swis_sroll`)のデータを作る。出力は3次元の座標dataと、実数値のtarget。下記のようなMetrics Learning用 [(参考)]( http://scikit-learn.org/stable/auto_examples/manifold/plot_compare_methods.html#sphx-glr-auto-examples-manifold-plot-compare-methods-py\n",
    ")\n",
    "\n",
    "- standard\n",
    "- ltsa\n",
    "- hessian\n",
    "- modified\n",
    "- Isomap\n",
    "- MDS\n",
    "- SpectralEmbedding\n",
    "- t-SNE"
   ]
  },
  {
   "cell_type": "code",
   "execution_count": null,
   "metadata": {
    "collapsed": true
   },
   "outputs": [],
   "source": [
    "data, target = datasets.make_s_curve(n_samples=1000, noise=0.0, random_state=None)\n",
    "plt.scatter(data[:,0],data[:,2])\n",
    "data, target = datasets.make_swiss_roll(n_samples=1000, noise=0.0, random_state=None)\n",
    "plt.scatter(data[:,0],data[:,2])\n",
    "plt.title(\"x-z plot\")\n",
    "print(data[0])\n",
    "print(target[0])\n",
    "from mpl_toolkits.mplot3d import Axes3D\n",
    "fig = plt.figure()\n",
    "ax = fig.add_subplot(111, projection='3d')\n",
    "ax.scatter(data[:,0], data[:,1], data[:,2])"
   ]
  },
  {
   "cell_type": "markdown",
   "metadata": {},
   "source": [
    "## loadする"
   ]
  },
  {
   "cell_type": "code",
   "execution_count": null,
   "metadata": {
    "collapsed": true
   },
   "outputs": [],
   "source": [
    "data =  datasets.load_boston()\n",
    "# datasets.load_breast_cancer\n",
    "# datasets.load_diabetes\n",
    "# data = datasets.load_digits()\n",
    "data = datasets.load_iris()\n",
    "print(\"data shape:\",data.data.shape)\n",
    "print(\"feature name:\",data.feature_names)\n",
    "print(\"target class:\", data.target)\n",
    "print(\"class name:\",data.target_names)\n",
    "from sklearn.utils import shuffle\n",
    "X, y = shuffle(data.data,data.target, random_state=0)\n",
    "print(\"data shape:\",X.shape)\n",
    "print(\"target ckass:\",y)\n",
    "# datasets.load_lfw_pairs\n",
    "# datasets.load_lfw_people\n",
    "# datasets.load_linnerud\n",
    "# datasets.load_mlcomp"
   ]
  },
  {
   "cell_type": "markdown",
   "metadata": {},
   "source": [
    "## fetchしてくる(ネットワーク環境が必要)"
   ]
  },
  {
   "cell_type": "code",
   "execution_count": null,
   "metadata": {
    "collapsed": true
   },
   "outputs": [],
   "source": [
    "# fdata = datasets.fetch_20newsgroups()\n",
    "# fdata = datasets.fetch_20newsgroups_vectorized()\n",
    "# fdata = datasets.fetch_california_housing()\n",
    "# fdata = datasets.fetch_kddcup99()\n",
    "# fdata = datasets.fetch_lfw_pairs()\n",
    "# fdata = datasets.fetch_lfw_people()\n",
    "# fdata =  datasets.fetch_mldata(\"MNIST\")\n",
    "# fdat = datasets.fetch_olivetti_faces()\n",
    "# fdata = datasets.fetch_rcv1()\n",
    "# fdata = datasets.fetch_species_distributions() #errorでる\n",
    "\n",
    "# print(len(fdata.data)) #fetch_20newsgroups()のみはこれ\n",
    "# print(fdata.data.shape)\n",
    "# print(fdata.feature_names)\n",
    "# print(fdata.target)\n",
    "# print(fdata.target_names) #ラベルがカテゴリ変数のときはある。\n"
   ]
  },
  {
   "cell_type": "markdown",
   "metadata": {},
   "source": [
    "## 学習させる\n",
    "1. データをシャッフルして、分割する(`sklearn.model_selection.train_test_split`)\n",
    "2. 学習させる(`fit`)\n",
    "3. テストする(`test`)\n",
    "\n",
    "取ってきたデータを\n",
    "いろんな学習器があるけれど、sklearnは入出力の関数/型が決まっている\n",
    "- ` model.fit(X,y)` : モデルを学習する(教師なしの場合は、ラベルはいらないので、`model.fit(X)`)\n",
    "- ` model.predict(X)` : モデルからテストを行う"
   ]
  },
  {
   "cell_type": "code",
   "execution_count": null,
   "metadata": {
    "collapsed": true
   },
   "outputs": [],
   "source": [
    "from sklearn.model_selection import train_test_split\n",
    "from sklearn.ensemble import RandomForestClassifier\n",
    "from sklearn.metrics import accuracy_score\n",
    "\n",
    "iris = datasets.load_iris()\n",
    "data, target = iris.data, iris.target\n",
    "data_train, data_test, target_train, target_test = train_test_split(data, target, train_size=0.8, random_state=1)\n",
    "# print(data_train)\n",
    "# print(target_train)\n",
    "# print(data_test)\n",
    "# print(target_test)\n",
    "model = RandomForestClassifier()\n",
    "model.fit(data_train, target_train)\n",
    "target_pred = model.predict(data_test)\n",
    "print(accuracy_score(target_test, target_pred))\n"
   ]
  }
 ],
 "metadata": {
  "kernelspec": {
   "display_name": "Python 3",
   "language": "python",
   "name": "python3"
  },
  "language_info": {
   "codemirror_mode": {
    "name": "ipython",
    "version": 3
   },
   "file_extension": ".py",
   "mimetype": "text/x-python",
   "name": "python",
   "nbconvert_exporter": "python",
   "pygments_lexer": "ipython3",
   "version": "3.6.1"
  }
 },
 "nbformat": 4,
 "nbformat_minor": 2
}
