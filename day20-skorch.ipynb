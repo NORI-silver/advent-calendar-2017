{
 "cells": [
  {
   "cell_type": "markdown",
   "metadata": {},
   "source": [
    "## Skorchを試す\n",
    "- PyTorchのsklearnラッパー\n",
    "- sklearnのインターフェースでPyTorchを使える\n",
    "\n",
    "## インストール\n",
    "```\n",
    "git clone https://github.com/dnouri/skorch.git\n",
    "cd skorch\n",
    "# create and activate a virtual environment\n",
    "pip install -r requirements.txt\n",
    "# install pytorch version for your system (see below)\n",
    "python setup.py install\n",
    "\n",
    "```"
   ]
  },
  {
   "cell_type": "code",
   "execution_count": null,
   "metadata": {},
   "outputs": [],
   "source": [
    "%matplotlib inline\n",
    "import matplotlib.pyplot as plt\n",
    "\n",
    "import torch\n",
    "from torch import nn\n",
    "import torch.nn.functional as F\n",
    "torch.manual_seed(0);\n",
    "\n",
    "import numpy as np\n",
    "from sklearn.datasets import make_classification\n",
    "import sklearn\n",
    "X, y = make_classification(1000, 20, n_informative=10, random_state=0)\n",
    "X = X.astype(np.float32)\n",
    "X.shape, y.shape,y.mean()"
   ]
  },
  {
   "cell_type": "markdown",
   "metadata": {},
   "source": [
    "## ネットワーク構築\n",
    "PyTorch"
   ]
  },
  {
   "cell_type": "code",
   "execution_count": null,
   "metadata": {},
   "outputs": [],
   "source": [
    "class ClassifierModule(nn.Module):\n",
    "    def __init__(\n",
    "            self,\n",
    "            num_units=10,\n",
    "            nonlin=F.relu,\n",
    "            dropout=0.5,\n",
    "    ):\n",
    "        super(ClassifierModule, self).__init__()\n",
    "        self.num_units = num_units\n",
    "        self.nonlin = nonlin\n",
    "        self.dropout = dropout\n",
    "\n",
    "        self.dense0 = nn.Linear(20, num_units)\n",
    "        self.nonlin = nonlin\n",
    "        self.dropout = nn.Dropout(dropout)\n",
    "        self.dense1 = nn.Linear(num_units, 10)\n",
    "        self.output = nn.Linear(10, 2)\n",
    "\n",
    "    def forward(self, X, **kwargs):\n",
    "        X = self.nonlin(self.dense0(X))\n",
    "        X = self.dropout(X)\n",
    "        X = F.relu(self.dense1(X))\n",
    "        X = F.softmax(self.output(X), dim=-1)\n",
    "        return X"
   ]
  },
  {
   "cell_type": "markdown",
   "metadata": {},
   "source": [
    "## Sklearnでwrap\n",
    "\n",
    "[`skorch.net`](https://skorch.readthedocs.io/en/latest/net.html?highlight=neuralnetclassifier)\n",
    "用意されているのは2種類\n",
    "\n",
    "\n",
    "|関数|用途|\n",
    "|---|---|\n",
    "|`NeuralNetClassifier`|分類器をsklearn風に|\n",
    "|`NeuralNetRegressor`|回帰をsklearn風に|\n",
    "\n",
    "初期化の際に、学習の仕方を決める。パラメータは、**PyTorch**の関数を使用できる。\n",
    "\n",
    "- criterion : 損失関数の設定\n",
    "- optimizer : 最適化関数の設定\n",
    "- lr : 学習率の決定\n",
    "\n",
    "その他色々とパラメータはあるので、[`skorch.net`](https://skorch.readthedocs.io/en/latest/net.html?highlight=neuralnetclassifier)を参照。\n",
    "\n",
    "PyTorchのパラメータに関しては[『PyTorch入門』 使い方&Tensorflow, Keras等との違いとは？](http://www.procrasist.com/entry/19-pytorch)を参照\n",
    "\n",
    "- `.fit`で、自動的にtorch.tensorに変換される\n",
    "- validationまでやってくれて嬉しい"
   ]
  },
  {
   "cell_type": "code",
   "execution_count": null,
   "metadata": {},
   "outputs": [],
   "source": [
    "from skorch.net import NeuralNetClassifier\n",
    "net = NeuralNetClassifier(\n",
    "    module=ClassifierModule,\n",
    "    max_epochs=20,\n",
    "    lr=0.1,\n",
    "    # use_cuda=True,  # uncomment this to train with CUDA\n",
    ")\n",
    "net.fit(X,y)\n",
    "y_pred = net.predict(X[:5])\n",
    "y_proba = net.predict_proba(X[:5])\n",
    "for pred, proba in zip(y_pred,y_proba):\n",
    "    print(\"score {}: class {}\".format(proba, pred))"
   ]
  },
  {
   "cell_type": "markdown",
   "metadata": {},
   "source": [
    "## sklearnとの連携\n",
    "### pipeline\n",
    "\n",
    "- スケーリングなどsklearnの処理をデータの流れに組み込める\n",
    "- 前処理の話は [day-8](http://www.procrasist.com/entry/8-preprocessing)"
   ]
  },
  {
   "cell_type": "code",
   "execution_count": null,
   "metadata": {},
   "outputs": [],
   "source": [
    "from sklearn.pipeline import Pipeline\n",
    "from sklearn.preprocessing import StandardScaler\n",
    "\n",
    "# データの流れるPipelineを設計\n",
    "pipe = Pipeline([\n",
    "    (\"scale\",StandardScaler()),\n",
    "    (\"neuralnet\", net)\n",
    "])\n",
    "print(pipe.named_steps)\n",
    "\n",
    "pipe.fit(X,y)\n",
    "\n",
    "y_pred = pipe.predict(X[:5])\n",
    "y_proba = pipe.predict_proba(X[:5])\n",
    "for pred, proba in zip(y_pred,y_proba):\n",
    "    print(\"score {}: class {}\".format(proba, pred))\n"
   ]
  },
  {
   "cell_type": "markdown",
   "metadata": {},
   "source": [
    "### Grid search\n",
    "[参考:Cross Validationとパラメータサーチでモデルの調整](http://www.procrasist.com/entry/10-cross-validation)\n",
    "\n",
    "- NeuralNetClassifier/NeuralNetRegressorで設定できるパラメータを調べることができる(`GridSearchCV` or `RandomSearchCV`)\n",
    "- optimizerなども`torch.optim`のリストを使って網羅的に調べられる\n",
    "- クラス内変数も `module__hoge`(hogeはメンバ変数)と入力することで置き換えられる\n"
   ]
  },
  {
   "cell_type": "code",
   "execution_count": null,
   "metadata": {},
   "outputs": [],
   "source": [
    "from sklearn.model_selection import GridSearchCV\n",
    "params = {\n",
    "    \"lr\":[i*0.01 for i in range(1,5)],\n",
    "    \"optimizer\":[torch.optim.Adam, torch.optim.Adagrad, torch.optim.SGD],\n",
    "    \"module__num_units\":[10,20],\n",
    "}\n",
    "gs = GridSearchCV(net, params, refit=False, cv=3, scoring=\"accuracy\")\n",
    "gs.fit(X,y)"
   ]
  },
  {
   "cell_type": "code",
   "execution_count": null,
   "metadata": {},
   "outputs": [],
   "source": [
    "import pandas as pd\n",
    "df = pd.DataFrame(gs.cv_results_)\n",
    "df_scored = df.sort_values(by=[\"rank_test_score\"])[[\"params\",\"mean_test_score\",\"std_test_score\",\"mean_fit_time\"]]\n",
    "df_scored"
   ]
  },
  {
   "cell_type": "markdown",
   "metadata": {},
   "source": [
    "## NeuralNet\n",
    "[day-19](http://www.procrasist.com/entry/19-pytorch)で実装したMNISTの分類器をsklearnで書いてみる\n"
   ]
  },
  {
   "cell_type": "code",
   "execution_count": null,
   "metadata": {},
   "outputs": [],
   "source": [
    "# データの読み込み(sklearn)\n",
    "from skorch import NeuralNetClassifier\n",
    "import torch\n",
    "from torch import nn\n",
    "from torch.nn import functional as F\n",
    "from sklearn.datasets import fetch_mldata\n",
    "from sklearn.model_selection import train_test_split\n",
    "from sklearn.metrics import classification_report\n",
    "mnist = fetch_mldata('MNIST original')\n",
    "X = mnist.data.astype('float32')\n",
    "y = mnist.target.astype('int64')\n",
    "X /= 255\n",
    "XCnn = X.reshape(-1, 1, 28, 28)\n",
    "XCnn_train, XCnn_test, y_train, y_test = train_test_split(XCnn, y, test_size=0.25, random_state=42)\n",
    "# Networkの設計(PyTorch)\n",
    "class Net(nn.Module):\n",
    "    def __init__(self):\n",
    "        super(Net, self).__init__()\n",
    "        self.conv1 = nn.Conv2d(1, 32, kernel_size=3)\n",
    "        self.conv2 = nn.Conv2d(32, 64, kernel_size=3)\n",
    "        self.conv2_drop = nn.Dropout2d()\n",
    "        self.fc1 = nn.Linear(1600, 128) # 1600 = number channels * width * height\n",
    "        self.fc2 = nn.Linear(128, 10)\n",
    "\n",
    "    def forward(self, x):\n",
    "        x = F.relu(F.max_pool2d(self.conv1(x), 2))\n",
    "        x = F.relu(F.max_pool2d(self.conv2_drop(self.conv2(x)), 2))\n",
    "        x = x.view(-1, x.size(1) * x.size(2) * x.size(3)) # flatten over channel, height and width = 1600\n",
    "        x = F.relu(self.fc1(x))\n",
    "        x = F.dropout(x, training=self.training)\n",
    "        x = self.fc2(x)\n",
    "        x = F.softmax(x, dim=-1)\n",
    "        return x\n",
    "# ラッパーを使う(skorch)\n",
    "net = NeuralNetClassifier(\n",
    "    Net,\n",
    "    max_epochs=20,\n",
    "    lr=1,\n",
    "    optimizer=torch.optim.Adadelta,\n",
    "    # use_cuda=True,  # uncomment this to train with CUDA\n",
    ")\n",
    "# training\n",
    "net.fit(XCnn_train, y_train)\n",
    "\n"
   ]
  },
  {
   "cell_type": "code",
   "execution_count": null,
   "metadata": {},
   "outputs": [],
   "source": [
    "# test\n",
    "y_pred = net.predict(XCnn_test)\n",
    "print(classification_report(y_test, y_pred))"
   ]
  },
  {
   "cell_type": "code",
   "execution_count": null,
   "metadata": {},
   "outputs": [],
   "source": []
  }
 ],
 "metadata": {
  "kernelspec": {
   "display_name": "Python 3",
   "language": "python",
   "name": "python3"
  },
  "language_info": {
   "codemirror_mode": {
    "name": "ipython",
    "version": 3
   },
   "file_extension": ".py",
   "mimetype": "text/x-python",
   "name": "python",
   "nbconvert_exporter": "python",
   "pygments_lexer": "ipython3",
   "version": "3.6.1"
  }
 },
 "nbformat": 4,
 "nbformat_minor": 2
}
