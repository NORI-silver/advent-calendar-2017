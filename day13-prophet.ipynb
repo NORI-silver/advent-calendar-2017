{
 "cells": [
  {
   "cell_type": "markdown",
   "metadata": {},
   "source": [
    "## Prophet tutorial\n",
    "- [prophet quickstart](https://facebook.github.io/prophet/docs/quick_start.html)\n",
    "- 扱うデータは[Wikipediatrend](https://cran.r-project.org/web/packages/wikipediatrend/vignettes/using-wikipediatrend.html)\n",
    "\n",
    "- pythonAPIでは、**sklearn**のモデルを踏襲しているため、`fit`と`predict`で学習と予測を行うことができる。\n",
    "- inputは**必ず下記の型**で行う\n",
    "\n",
    "|変数|型|用途|\n",
    "|---|---|---|\n",
    "|`ds`|datetime|時系列情報(タイムスタンプ)|\n",
    "|`y`|数値|そのときの値|\n",
    "\n",
    "せっかくなのでday12で扱った、Airport Passengersの予測をしてみる。\n",
    "        "
   ]
  },
  {
   "cell_type": "code",
   "execution_count": null,
   "metadata": {},
   "outputs": [],
   "source": [
    "%matplotlib inline\n",
    "import matplotlib.pyplot as plt\n",
    "import pandas as pd\n",
    "import numpy as np\n",
    "from fbprophet import Prophet\n",
    "# df = pd.read_csv(\"example_wp_peyton_manning.csv\")\n",
    "df = pd.read_csv(\"AirportPassengers.csv\",delimiter=\";\").dropna()\n",
    "from datetime import datetime\n",
    "def str2time(string):\n",
    "    return datetime.strptime(string, '%Y-%m')\n",
    "# 読み込んだデータをdsとyに変える\n",
    "df[\"ds\"] = df.Month.apply(str2time)\n",
    "df = df.drop([\"Month\"],axis=1)\n",
    "df[\"y\"] = np.log(df.Passengers)\n",
    "# plt.plot(df.ds, df.y)\n",
    "# plt.show()\n",
    "print(df.head())"
   ]
  },
  {
   "cell_type": "markdown",
   "metadata": {},
   "source": [
    "### 将来の予測\n",
    "- `m = Prophet()`で初期化\n",
    "- `m.fit(df)`で学習\n",
    "- make_future_dataframeで、dsのデータフレームを追加\n",
    "    - freq : 予測する間隔(freq=\"M\"ならMonthly。詳しくは公式 [Sub-daily data](https://facebook.github.io/prophet/docs/non-daily_data.html) )\n",
    "    - periods : 何個dataframeを作るか\n",
    "- `m.predct(future)`で予測 : 出力はdataframe型\n",
    "- `m.plot()`でかなりオシャレなプロット"
   ]
  },
  {
   "cell_type": "code",
   "execution_count": null,
   "metadata": {},
   "outputs": [],
   "source": [
    "m = Prophet()\n",
    "# prophetに入れるには、dsとyのペアが必要\n",
    "m.fit(df)\n",
    "future = m.make_future_dataframe(periods=60,freq=\"M\")\n",
    "forecast = m.predict(future)\n",
    "forecast[[\"ds\",\"trend\",\"yhat\"]].tail()\n",
    "m.plot(forecast);\n",
    "plt.legend()\n",
    "# future = m.make_future_dataframe(periods=365)\n"
   ]
  },
  {
   "cell_type": "code",
   "execution_count": null,
   "metadata": {},
   "outputs": [],
   "source": [
    "forecast = m.predict(future)\n",
    "forecast[[\"ds\",\"trend\",\"yhat\"]].tail()"
   ]
  },
  {
   "cell_type": "code",
   "execution_count": null,
   "metadata": {},
   "outputs": [],
   "source": [
    "m.plot(forecast);\n",
    "plt.legend()"
   ]
  },
  {
   "cell_type": "code",
   "execution_count": null,
   "metadata": {},
   "outputs": [],
   "source": [
    "m.plot_components(forecast)"
   ]
  }
 ],
 "metadata": {
  "kernelspec": {
   "display_name": "Python 3",
   "language": "python",
   "name": "python3"
  },
  "language_info": {
   "codemirror_mode": {
    "name": "ipython",
    "version": 3
   },
   "file_extension": ".py",
   "mimetype": "text/x-python",
   "name": "python",
   "nbconvert_exporter": "python",
   "pygments_lexer": "ipython3",
   "version": "3.6.1"
  }
 },
 "nbformat": 4,
 "nbformat_minor": 2
}
