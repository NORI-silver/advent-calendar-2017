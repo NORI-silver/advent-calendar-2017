{
 "cells": [
  {
   "cell_type": "markdown",
   "metadata": {},
   "source": [
    "## データの前処理の仕方\n",
    "- pandasでの前処理(欠損値の補間)\n",
    "- sklearnのpreprocessing"
   ]
  },
  {
   "cell_type": "code",
   "execution_count": null,
   "metadata": {},
   "outputs": [],
   "source": [
    "%matplotlib inline\n",
    "import matplotlib.pyplot as plt\n",
    "import numpy as np\n",
    "from sklearn.datasets import load_iris\n",
    "from sklearn import preprocessing\n",
    "import pandas as pd\n",
    "df = pd.read_csv(\"day8-sample.csv\",index_col=\"name\")\n",
    "df\n",
    "# df.isnull()"
   ]
  },
  {
   "cell_type": "markdown",
   "metadata": {},
   "source": [
    "## 欠損値除去\n",
    "pandasの変数を使う\n",
    "- https://pandas.pydata.org/pandas-docs/stable/generated/pandas.DataFrame.dropna.html\n",
    "- "
   ]
  },
  {
   "cell_type": "code",
   "execution_count": null,
   "metadata": {},
   "outputs": [],
   "source": [
    "df.dropna(axis=0,how=\"any\")\n",
    "df.fillna(0)"
   ]
  },
  {
   "cell_type": "code",
   "execution_count": null,
   "metadata": {},
   "outputs": [],
   "source": [
    "def height_to_num(height):\n",
    "    if type(height)==float:\n",
    "        return height\n",
    "    if \"cm\" in height:\n",
    "        height = float(height[:-2])\n",
    "    if (type(height)!=float) and (\"m\" in height):\n",
    "        height = float(height[:-1])\n",
    "        height *= 100\n",
    "    return height\n",
    "\n",
    "def weight_to_num(weight):\n",
    "    if type(weight)==float:\n",
    "        return weight\n",
    "    if  (type(weight)!=float) and (\"kg\" in weight):\n",
    "        weight = weight[:-2]\n",
    "    return float(weight)\n",
    "\n",
    "\n",
    "# df.dropna(how=\"any\")\n",
    "df[\"height\"]=df.height.apply(height_to_num)\n",
    "df[\"weight\"]= df.weight.apply(weight_to_num)\n",
    "print(df)"
   ]
  },
  {
   "cell_type": "markdown",
   "metadata": {},
   "source": [
    "## 欠損値の補間\n",
    "- `dropna`\n",
    "- `fillna`\n",
    "- `interpolate`"
   ]
  },
  {
   "cell_type": "code",
   "execution_count": null,
   "metadata": {},
   "outputs": [],
   "source": [
    "# drop\n",
    "# print(df.dropna(how=\"any\"))\n",
    "# fill\n",
    "df.height = df.height.fillna(df.height.mean())\n",
    "df.weight = df.weight.fillna(df.weight.mean())\n",
    "print(df)\n",
    "# interpolate\n",
    "# print(\"orig\\n\",df.height.values)\n",
    "# print(\"interpolate\\n\",df.height.interpolate(method='linear').values)\n",
    "# print(df)"
   ]
  },
  {
   "cell_type": "markdown",
   "metadata": {},
   "source": [
    "## スケーリング\n",
    "データの大きさ、形状を調節することで、精度向上が見込めることが多い。\n",
    "\n",
    "`sklearn.preprpcessing`には、正規化を行う関数が多く実装されている。"
   ]
  },
  {
   "cell_type": "code",
   "execution_count": null,
   "metadata": {},
   "outputs": [],
   "source": [
    "# axis=0 同一カラム　axis=1:同一インデックス\n",
    "\n",
    "print(\"ORIGINAL\")\n",
    "print(df)\n",
    "print(\"mean:{} std:{}\".format(df.mean(axis=0),df.std(axis=0)))\n",
    "\n",
    "df_scaled = preprocessing.scale(df, axis=0)\n",
    "print(\"SCALED\")\n",
    "print(df_scaled)\n",
    "print(\"mean:{} std:{}\".format(df_scaled.mean(axis=0),df_scaled.std(axis=0)))"
   ]
  },
  {
   "cell_type": "code",
   "execution_count": null,
   "metadata": {},
   "outputs": [],
   "source": [
    "# standard scaler\n",
    "# スケールの取り出し(新しいデータが来たときに、固定された正規化定数で対応が可能)\n",
    "scaler = preprocessing.StandardScaler().fit(df)\n",
    "# スケールを出す\n",
    "print(\"mean:{} std:{}\".format(scaler.mean_,scaler.scale_))\n",
    "# スケーリングを行う\n",
    "df_scaled = scaler.transform(df)\n",
    "print(df_scaled)"
   ]
  },
  {
   "cell_type": "code",
   "execution_count": null,
   "metadata": {},
   "outputs": [],
   "source": [
    "# min-max scaling\n",
    "scaler = preprocessing.MinMaxScaler().fit(df)\n",
    "print(\"max:{}, min:{}\".format(scaler.data_max_, scaler.data_min_))\n",
    "print(\"SCALED\")\n",
    "print(scaler.transform(df))"
   ]
  },
  {
   "cell_type": "code",
   "execution_count": null,
   "metadata": {},
   "outputs": [],
   "source": [
    "# FunctionTransformer\n",
    "from sklearn.preprocessing import FunctionTransformer\n",
    "transformer = FunctionTransformer(np.log1p)\n",
    "transformer.transform(df)"
   ]
  }
 ],
 "metadata": {
  "kernelspec": {
   "display_name": "Python 3",
   "language": "python",
   "name": "python3"
  },
  "language_info": {
   "codemirror_mode": {
    "name": "ipython",
    "version": 3
   },
   "file_extension": ".py",
   "mimetype": "text/x-python",
   "name": "python",
   "nbconvert_exporter": "python",
   "pygments_lexer": "ipython3",
   "version": "3.6.1"
  }
 },
 "nbformat": 4,
 "nbformat_minor": 2
}
