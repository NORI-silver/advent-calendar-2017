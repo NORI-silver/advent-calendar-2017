{
 "cells": [
  {
   "cell_type": "markdown",
   "metadata": {},
   "source": [
    "## 分布の距離\n",
    "- KL divergence\n",
    "- L1 norm\n",
    "- L2 norm\n",
    "- JS divergence\n",
    "- Wasserstein distance\n"
   ]
  },
  {
   "cell_type": "code",
   "execution_count": null,
   "metadata": {},
   "outputs": [],
   "source": [
    "%matplotlib inline\n",
    "import matplotlib.pyplot as plt\n",
    "import numpy as np\n",
    "from scipy import stats"
   ]
  },
  {
   "cell_type": "code",
   "execution_count": null,
   "metadata": {},
   "outputs": [],
   "source": [
    "def gauss(x, mu, sigma):\n",
    "    return 1/np.sqrt(2*np.pi*sigma*sigma)*np.exp(-(x-mu)**2/(2*sigma**2))\n",
    "x = np.linspace(-5,5,101)\n",
    "y1 = gauss(x,0,1)\n",
    "\n",
    "y2 = gauss(x,1,2)\n",
    "plt.plot(x,y1,\"b\")\n",
    "plt.fill_between(x,y1,color=\"blue\", alpha=0.2)\n",
    "plt.plot(x,y2,\"r\")\n",
    "plt.fill_between(x,y2,color=\"red\", alpha=0.2)\n",
    "plt.xlim(x[0],x[-1])"
   ]
  },
  {
   "cell_type": "code",
   "execution_count": null,
   "metadata": {},
   "outputs": [],
   "source": [
    "def kld(p, q):\n",
    "    \"\"\"\n",
    "    Calculates Kullback–Leibler divergence\n",
    "    相互エントロピー\n",
    "    \"\"\"\n",
    "    return np.sum(p*np.log(p/q))\n",
    " \n",
    "def jsd(p,q):\n",
    "    \"\"\"Calculates Jensen-Shannon Divergence\"\"\"\n",
    "    m = (p+q)/2.0\n",
    "    return (kld(p,m)+kld(q,m))/2\n",
    "\n",
    "def l1(p ,q):\n",
    "    return np.sum(np.abs(p-q))\n",
    "\n",
    "def l2(p ,q):\n",
    "    return np.sum((p-q)**2)\n"
   ]
  },
  {
   "cell_type": "code",
   "execution_count": null,
   "metadata": {},
   "outputs": [],
   "source": [
    "mu = np.linspace(-3,3,30)\n",
    "klds, jsds, l1s, l2s, wds = [],[],[],[],[]\n",
    "for m in mu:\n",
    "    y1 = gauss(x,0,1)\n",
    "    y2 = gauss(x,m,1)\n",
    "    klds.append(kld(y1,y2))\n",
    "    jsds.append(jsd(y1,y2))\n",
    "    l1s.append(l1(y1,y2))\n",
    "    l2s.append(l2(y1,y2))\n",
    "plt.plot(mu, klds,label=\"KL\")\n",
    "plt.plot(mu, jsds,label=\"JS\")\n",
    "plt.plot(mu, l1s,label=\"L1\")\n",
    "plt.plot(mu, l2s, label=\"L2\")\n",
    "plt.legend()\n",
    "plt.xlabel(\"mu\")\n",
    "plt.ylabel(\"dist\")\n",
    "plt.xlim(mu[0],mu[-1])"
   ]
  },
  {
   "cell_type": "markdown",
   "metadata": {},
   "source": [
    "## Wasserstein distance\n",
    "- POTというライブラリを使う(Optimal Transportation)[github](https://github.com/rflamary/POT)\n",
    "- 輸送コスト最小化問題を解いた場合の最小の輸送コスト\n",
    "\n",
    "```\n",
    "pip install Cython\n",
    "pip install POT\n",
    "```"
   ]
  },
  {
   "cell_type": "code",
   "execution_count": null,
   "metadata": {},
   "outputs": [],
   "source": [
    "import ot\n",
    "from ot.datasets import get_1D_gauss as gauss\n",
    "n = 100  # nb bins\n",
    "# bin positions\n",
    "# x = np.arange(n, dtype=np.float64)\n",
    "x = np.linspace(-5,5,n,dtype=np.float64)\n",
    "# Gaussian distributions\n",
    "a = gauss(n, m=0, s=1)  # m= mean, s= std\n",
    "# loss matrix\n",
    "M = ot.dist(x.reshape((n, 1)), x.reshape((n, 1)))\n",
    "M /= M.max()\n",
    "\n",
    "wds = []\n",
    "for m in mu:\n",
    "    b = gauss(n,m=m,s=1)\n",
    "    ws = ot.emd2(b,a,M)    \n",
    "    wds.append(ws)\n",
    "plt.plot(mu,wds,label=\"wasserstein\")\n",
    "plt.legend()\n",
    "plt.xlim(mu[0],mu[-1])"
   ]
  },
  {
   "cell_type": "code",
   "execution_count": null,
   "metadata": {},
   "outputs": [],
   "source": []
  }
 ],
 "metadata": {
  "kernelspec": {
   "display_name": "Python 3",
   "language": "python",
   "name": "python3"
  },
  "language_info": {
   "codemirror_mode": {
    "name": "ipython",
    "version": 3
   },
   "file_extension": ".py",
   "mimetype": "text/x-python",
   "name": "python",
   "nbconvert_exporter": "python",
   "pygments_lexer": "ipython3",
   "version": "3.4.3"
  }
 },
 "nbformat": 4,
 "nbformat_minor": 1
}
