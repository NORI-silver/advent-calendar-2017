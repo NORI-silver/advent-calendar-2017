{
 "cells": [
  {
   "cell_type": "markdown",
   "metadata": {},
   "source": [
    "\n",
    "## pandasの練習 by 都道府県データ\n",
    "\n",
    "### 参考\n",
    "- [10 minutes pandas](https://pandas.pydata.org/pandas-docs/stable/10min.html)\n",
    "- [StatsFragments](http://sinhrks.hatenablog.com/)"
   ]
  },
  {
   "cell_type": "markdown",
   "metadata": {},
   "source": [
    "## ファイルを読み込む"
   ]
  },
  {
   "cell_type": "code",
   "execution_count": null,
   "metadata": {},
   "outputs": [],
   "source": [
    "%matplotlib inline\n",
    "import matplotlib.pyplot as plt\n",
    "import pandas as pd\n",
    "import matplotlib.cm as cm\n",
    "df = pd.read_csv(\"japan.csv\", encoding=\"shift-jis\",index_col=\"prefecture\")\n",
    "df.head()"
   ]
  },
  {
   "cell_type": "markdown",
   "metadata": {},
   "source": [
    "## 基本情報"
   ]
  },
  {
   "cell_type": "code",
   "execution_count": null,
   "metadata": {},
   "outputs": [],
   "source": [
    "# print(df)\n",
    "print(\"head\\n\",df.head(3))#初めの3つを見る\n",
    "print(\"tail\\n\",df.tail(3))#後の3つを見る\n",
    "print(\"index\\n\", df.index) #インデックスを確認\n",
    "print(\"column\\n\", df.columns) #カラムを表示\n",
    "print(\"values\\n\",df.values) #中の値をarray形式で表示\n",
    "print(\"statistic summary\\n\",df.describe()) #統計量を表示\n",
    "print(\"Transpose\\n\",df.T) #転置\n",
    "print(\"sorting(axis=1)\\n\",df.sort_index(axis=1, ascending=False)) #columnsにそってソート\n",
    "print(\"sorting(axis=0)\\n\",df.sort_index(axis=0, ascending=False)) #indexにそってソート\n",
    "print(\"sorting(by longtitude)\\n\",df.sort_values(by=\"longtitude\")) #Aの値に沿ってソート"
   ]
  },
  {
   "cell_type": "markdown",
   "metadata": {},
   "source": [
    "## 内部にアクセス"
   ]
  },
  {
   "cell_type": "code",
   "execution_count": null,
   "metadata": {},
   "outputs": [],
   "source": [
    "print(\"longtitudeの値(1)\\n\",df[\"longtitude\"])\n",
    "print(\"longtitudeの値(2)\\n\",df.longtitude)\n",
    "print(\"[]で、rowの指定\\n\",df[0:3])\n",
    "# ラベルで指定\n",
    "print(\"indexを指定\\n\", df.loc[\"東京都\"])\n",
    "print(\"columnを指定\\n\", df.loc[:,[\"longtitude\",\"latitude\"]])\n",
    "print(\"index, columnで指定\\n\", df.loc[\"東京都\",[\"longtitude\",\"latitude\"]])\n",
    "print(\"scalarの値\\n\",df.loc[\"東京都\",\"longtitude\"])\n",
    "print(\"scalerの値(高速版)\\n\",df.at[\"東京都\",\"longtitude\"]) #listは入れられない\n",
    "# 位置による指定\n",
    "print(\"ilocによる行指定\\n\",df.iloc[3])\n",
    "print(\"ilocによる行列範囲指定\\n\",df.iloc[3:5, 0:2])\n",
    "print(\"listでインデックス指定をして検索\\n\",df.iloc[:,[0,2,3]])\n",
    "print(\"scalarの値(高速版)\\n\",df.iat[1,1])\n",
    "# 条件検索(まだ使えない)\n",
    "# df = df[(df.index!=\"沖縄県\")&(df.index!=\"北海道\")]"
   ]
  },
  {
   "cell_type": "markdown",
   "metadata": {},
   "source": [
    "## 列の追加とapply"
   ]
  },
  {
   "cell_type": "code",
   "execution_count": null,
   "metadata": {},
   "outputs": [],
   "source": [
    "def calc_number(d_num):\n",
    "    \"\"\"\n",
    "    度であらわされてるのを、小数に変換\n",
    "    \"\"\"\n",
    "    d = d_num.split(\":\")\n",
    "    n = int(d[0])+float(d[1])/60+float(d[2])/3600\n",
    "    return n\n",
    "df[\"latitude_num\"]=df.latitude.apply(calc_number)\n",
    "df[\"longtitude_num\"]=df.longtitude.apply(calc_number)\n",
    "print(df[df[\"latitude_num\"]>135].index)"
   ]
  },
  {
   "cell_type": "markdown",
   "metadata": {},
   "source": [
    "## イテレーターの使い方"
   ]
  },
  {
   "cell_type": "code",
   "execution_count": null,
   "metadata": {},
   "outputs": [],
   "source": [
    "plt.figure(figsize=(8,8))\n",
    "for key, row in df.loc[:,[\"longtitude_num\",\"latitude_num\"]].iterrows():\n",
    "    plt.scatter(row[\"latitude_num\"],row[\"longtitude_num\"],\n",
    "                marker=\"x\",color=\"blue\")"
   ]
  },
  {
   "cell_type": "markdown",
   "metadata": {},
   "source": [
    "## 統計量を使う"
   ]
  },
  {
   "cell_type": "code",
   "execution_count": null,
   "metadata": {},
   "outputs": [],
   "source": [
    "longtitude_mean = df[\"longtitude_num\"].mean()\n",
    "latitude_mean = df[\"latitude_num\"].mean()\n",
    "plt.figure(figsize=(8,8))\n",
    "for key, row in df.loc[:,[\"longtitude_num\",\"latitude_num\"]].iterrows():\n",
    "    plt.scatter(row[\"latitude_num\"],row[\"longtitude_num\"],\n",
    "                marker=\"x\",color=\"blue\")\n",
    "plt.scatter(latitude_mean,longtitude_mean,marker=\"s\",s=30,color=\"red\")\n",
    "print(\"latitude;{:.5f}, longtitude_mean:{:.5f}\".format(latitude_mean, longtitude_mean))"
   ]
  },
  {
   "cell_type": "markdown",
   "metadata": {},
   "source": [
    "# (おまけ)10 minutes to pandas(途中まで)"
   ]
  },
  {
   "cell_type": "markdown",
   "metadata": {},
   "source": [
    "## 作成、操作"
   ]
  },
  {
   "cell_type": "code",
   "execution_count": null,
   "metadata": {},
   "outputs": [],
   "source": [
    "# seriesとdataframe\n",
    "# seriesが1次元配列、dataframeが多次元配列\n",
    "se = pd.Series([1,3,5,np.nan,6,8])\n",
    "print(se)\n",
    "# dataframe\n",
    "dates = pd.date_range(\"20130101\",periods=6) \n",
    "df = pd.DataFrame(np.random.randn(6,4), index=dates, columns=list('ABCD'))\n",
    "print(df)\n",
    "print(\"head\\n\",df.head(3))#初めの3つを見る\n",
    "print(\"tail\\n\",df.tail(3))#後の3つを見る\n",
    "print(\"index\\n\", df.index) #インデックスを確認\n",
    "print(\"column\\n\", df.columns) #カラムを表示\n",
    "print(\"values\\n\",df.values) #中の値をarray形式で表示\n",
    "print(\"statistic summary\\n\",df.describe()) #統計量を表示\n",
    "print(\"Transpose\\n\",df.T) #転置\n",
    "print(\"sorting(axis=1)\\n\",df.sort_index(axis=1, ascending=False)) #columnsにそってソート\n",
    "print(\"sorting(axis=0)\\n\",df.sort_index(axis=0, ascending=False)) #indexにそってソート\n",
    "print(\"sorting(by A)\\n\",df.sort_values(by=\"A\")) #Aの値に沿ってソート"
   ]
  },
  {
   "cell_type": "markdown",
   "metadata": {},
   "source": [
    "## 行列の取扱い"
   ]
  },
  {
   "cell_type": "code",
   "execution_count": null,
   "metadata": {},
   "outputs": [],
   "source": [
    "dates = pd.date_range(\"20130101\",periods=6) \n",
    "df = pd.DataFrame(np.random.randn(6,4), index=dates, columns=list('ABCD'))\n",
    "print(\"Aの値(1)\\n\",df[\"A\"])\n",
    "print(\"Aの値(2)\\n\",df.A)\n",
    "print(\"[]で、rowの指定\\n\",df[0:3])\n",
    "print(\"日時で指定\\n\",df['20130102':'20130104'])\n",
    "# ラベルで指定\n",
    "print(\"indexを指定\\n\", df.loc[dates[0]])\n",
    "print(\"columnを指定\\n\", df.loc[:,[\"A\",\"B\"]])\n",
    "print(\"index, columnで指定\\n\", df.loc[dates[0],[\"A\",\"B\"]])\n",
    "print(\"scalarの値\\n\",df.loc[dates[0],\"A\"])\n",
    "print(\"scalerの値(高速版)\\n\",df.at[dates[0],\"A\"]) #listは入れられない\n",
    "# 位置による指定\n",
    "print(\"ilocによる行指定\\n\",df.iloc[3])\n",
    "print(\"ilocによる行列範囲指定\\n\",df.iloc[3:5, 0:2])\n",
    "print(\"listでインデックス指定をして検索\\n\",df.iloc[:,[0,2,3]])\n",
    "print(\"scalarの値(高速版)\\n\",df.iat[1,1])\n",
    "# 条件検索\n",
    "print(\"column Aが0.5より大きいindexだけ抜粋\\n\",df[df.A > 0.5])\n",
    "print(\"0より大きい要素だけ抜粋、条件外はNaN\\n\",df[df > 0])"
   ]
  },
  {
   "cell_type": "markdown",
   "metadata": {},
   "source": [
    "## DataFrame, Seriesの設定"
   ]
  },
  {
   "cell_type": "code",
   "execution_count": null,
   "metadata": {},
   "outputs": [],
   "source": [
    "s1 = pd.Series([1,2,3,4,5,6], index=pd.date_range('20130102', periods=6))\n",
    "df[\"E\"] = s1 #columnの追加\n",
    "print(\"columnの追加\\n\",df)\n",
    "#さっきのラベルやposition指定方法を使って設定することも出来る\n",
    "df.iat[0,1] = 0\n",
    "# 配列を与えることも可能\n",
    "df[\"F\"] = np.zeros(len(df))\n",
    "print(df)\n",
    "# 条件指定で変えることも可能(whereみたいなもの)\n",
    "df2 = df.copy()\n",
    "df2[df2<0] = -df2 #負の数を正に\n",
    "print(df2)"
   ]
  },
  {
   "cell_type": "markdown",
   "metadata": {},
   "source": [
    "## nanの取扱い"
   ]
  },
  {
   "cell_type": "code",
   "execution_count": null,
   "metadata": {},
   "outputs": [],
   "source": [
    "dates = pd.date_range(\"20130101\",periods=6) \n",
    "df = pd.DataFrame(np.random.randn(6,4), index=dates, columns=list('ABCD'))\n",
    "s1 = pd.Series([1,2,3,4,5,6], index=pd.date_range('20130102', periods=6))\n",
    "df[\"F\"] = s1 #columnの追加\n",
    "df1 = df.reindex(index=dates[0:4], columns=list(df.columns) + ['E'])\n",
    "df1.loc[dates[0]:dates[1],'E'] = 1\n",
    "print(pd.isnull(df1))\n",
    "print(\"nan有りの配列\\n\",df1)\n",
    "print(\"nanが一つでも入っている行は削除\\n\",df1.dropna(how=\"any\"))\n",
    "print(\"nanをvalue(10)で埋める\\n\",df1.fillna(value=10))\n"
   ]
  },
  {
   "cell_type": "markdown",
   "metadata": {},
   "source": [
    "## 計算、操作"
   ]
  },
  {
   "cell_type": "code",
   "execution_count": null,
   "metadata": {},
   "outputs": [],
   "source": [
    "a = np.arange(25).reshape(5,5)\n",
    "dates = pd.date_range(\"20130101\",periods=5) \n",
    "df = pd.DataFrame(a, index=dates, columns=list('ABCDE'))\n",
    "print(\"各columnの平均\\n\",df.mean())\n",
    "print(\"各indexの平均\\n\",df.mean(1))\n",
    "# df.sub()でまとめて引く事もできる\n",
    "a = np.array([1,2,3,4,5])\n",
    "print(\"df.sub\\n\",df.sub(a, axis=\"index\"))\n",
    "# apply : 各columnに対して計算をさせることが可能。よく使う\n",
    "print(\"df:\\n\",df)\n",
    "print(\"numpyのcumsum関数を各列にapplyする\\n\",df.apply(np.cumsum))\n",
    "print(\"lambda式とよく組み合わせる\\n\",df.apply(lambda x: x.max() - x.min()))"
   ]
  },
  {
   "cell_type": "markdown",
   "metadata": {},
   "source": [
    "## つなげる\n",
    "参考になるサイト : http://sinhrks.hatenablog.com/entry/2015/01/28/073327\n",
    "\n",
    "merge, join, concat,append について詳しく書かれている"
   ]
  }
 ],
 "metadata": {
  "anaconda-cloud": {},
  "kernelspec": {
   "display_name": "Python [default]",
   "language": "python",
   "name": "python3"
  },
  "language_info": {
   "codemirror_mode": {
    "name": "ipython",
    "version": 3
   },
   "file_extension": ".py",
   "mimetype": "text/x-python",
   "name": "python",
   "nbconvert_exporter": "python",
   "pygments_lexer": "ipython3",
   "version": "3.5.2"
  }
 },
 "nbformat": 4,
 "nbformat_minor": 2
}
