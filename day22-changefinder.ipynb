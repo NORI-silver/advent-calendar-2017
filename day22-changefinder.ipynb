{
 "cells": [
  {
   "cell_type": "markdown",
   "metadata": {},
   "source": [
    "## change finderで暴騰・暴落を発見する\n",
    "変化点検知"
   ]
  },
  {
   "cell_type": "code",
   "execution_count": null,
   "metadata": {
    "scrolled": true
   },
   "outputs": [],
   "source": [
    "%matplotlib inline\n",
    "import changefinder\n",
    "import pandas as pd \n",
    "from datetime import datetime as dt\n",
    "import matplotlib.pyplot as plt\n",
    "import numpy as np\n",
    "import os\n",
    "\n",
    "\n",
    "def str2datetime(tstr):\n",
    "    if tstr.__class__.__name__ == \"datetime\":\n",
    "        return tstr\n",
    "    ts = tstr.split(\".\")[0]\n",
    "    return dt.strptime(ts, \"%Y-%m-%d %H:%M:%S\")\n",
    "\n",
    "def calc_cf(name, df, cf, threshold=30):\n",
    "    values = df[name].values\n",
    "    scores = np.array([cf.update(value) for value in values])\n",
    "    print(np.where(scores>30))\n",
    "    print(scores)\n",
    "    # 描画\n",
    "    fig, ax1 = plt.subplots(figsize=(15,5))\n",
    "    ax1.set_title(name)\n",
    "    ax1.plot(df.index, scores,color=\"red\")\n",
    "    ax1.set_ylabel(\"anom_score\")\n",
    "    ax2 = ax1.twinx()  # 2つのプロットを関連付ける\n",
    "    ax2.plot(df.index, df[name].values)\n",
    "    ax2.set_ylabel(\"value\")\n",
    "    # しきい値越えリスト\n",
    "    df[\"score\"] = scores - threshold\n",
    "    for i in range(1,len(df)):\n",
    "        if df.iloc[i-1][\"score\"] < 0 and df.iloc[i][\"score\"] >= 0:\n",
    "            print(\"{}, time:{}\".format(i, df.iloc[i][\"timestamp\"]))\n",
    "            ax2.plot(df.index[i],df.iloc[i][name],\"o\")\n",
    "        \n",
    "    plt.xlim(df.index[0],df.index[-1])\n",
    "    plt.show()\n",
    "\n"
   ]
  },
  {
   "cell_type": "markdown",
   "metadata": {},
   "source": [
    "## Change Finder\n",
    "- r: 忘却パラメータに敏感\n",
    "- threthholdの調整も難しい"
   ]
  },
  {
   "cell_type": "code",
   "execution_count": null,
   "metadata": {},
   "outputs": [],
   "source": [
    "cf = changefinder.ChangeFinder(r=0.01, order=1, smooth=6)\n",
    "df = pd.read_csv(\"coindata.csv\").dropna()\n",
    "df.index = df.timestamp.apply(str2datetime)\n",
    "calc_cf(name=\"xrp\",df=df, cf=cf, threshold=15)"
   ]
  },
  {
   "cell_type": "code",
   "execution_count": null,
   "metadata": {},
   "outputs": [],
   "source": [
    "# ARIMA(よくわからん)\n",
    "# cf = changefinder.ChangeFinderARIMA(term=5,smooth=3,order=(1,0,0))\n",
    "# df = pd.read_csv(\"coindata.csv\").dropna()\n",
    "# df.index = df.timestamp.apply(str2datetime)\n",
    "# calc_cf(name=\"xem\",df=df, cf=cf, threshold=30)\n"
   ]
  },
  {
   "cell_type": "markdown",
   "metadata": {},
   "source": [
    "## Bollinger Band\n",
    "- window幅の調節が必要"
   ]
  },
  {
   "cell_type": "code",
   "execution_count": null,
   "metadata": {},
   "outputs": [],
   "source": [
    "def calc_bb(name, df, window=24):\n",
    "    # ボリンジャーバンドの2σ\n",
    "    plt.figure(figsize=(15,5))\n",
    "    plt.title(name)\n",
    "    plt.plot(df.index, df[name])\n",
    "    m_ave = df[name].rolling(window=6).mean()\n",
    "    m = df[name].rolling(window=window).mean()\n",
    "    sigma = df[name].rolling(window=window).std()\n",
    "    df[\"m\"] = m\n",
    "    df[\"m+2s\"] = m+2*sigma\n",
    "    df[\"m-2s\"] = m-2*sigma\n",
    "    df[\"up\"] = df[name] - df[\"m+2s\"]\n",
    "    df[\"down\"] = df[\"m-2s\"] - df[name]\n",
    "    df[\"up\"] = m_ave - df[\"m+2s\"]\n",
    "    df[\"down\"] = df[\"m-2s\"] - m_ave\n",
    "    \n",
    "    plt.plot(df.index,m,label=\"{}min\".format(window*10))\n",
    "    plt.plot(df.index,m+2*sigma,label=\"$+2\\sigma$\",color=\"k\",alpha=0.8,linestyle=\"dotted\")\n",
    "    plt.plot(df.index,m-2*sigma,label=\"$-2\\sigma$\",color=\"k\",alpha=0.8,linestyle=\"dotted\")\n",
    "    plt.plot(df.index,m_ave,label=\"mv ave window=60min\",color=\"green\",alpha=0.4)\n",
    "#     plt.plot(df.index, df[name].rolling(window=3*window).mean(),label=\"{}min\".format(window*30))\n",
    "\n",
    "    for i in range(1,len(df)):\n",
    "        if df.iloc[i-1][\"up\"] < 0 and df.iloc[i][\"up\"] >= 0:\n",
    "            print(\"time:{}\".format(df.iloc[i][\"timestamp\"]))\n",
    "            plt.plot(df.index[i],df.iloc[i][name],\"o\",color=\"red\",markersize=10)\n",
    "        if df.iloc[i-1][\"down\"] < 0 and df.iloc[i][\"down\"] >= 0:\n",
    "            print(\"time:{}\".format(df.iloc[i][\"timestamp\"]))\n",
    "            plt.plot(df.index[i],df.iloc[i][name],\"o\",color=\"blue\",markersize=10)\n",
    "    plt.legend(loc=2)\n",
    "    plt.show()\n",
    "    \n",
    "    "
   ]
  },
  {
   "cell_type": "code",
   "execution_count": null,
   "metadata": {},
   "outputs": [],
   "source": [
    "calc_bb(\"xrp\", df, window=36)"
   ]
  }
 ],
 "metadata": {
  "kernelspec": {
   "display_name": "Python 3",
   "language": "python",
   "name": "python3"
  },
  "language_info": {
   "codemirror_mode": {
    "name": "ipython",
    "version": 3
   },
   "file_extension": ".py",
   "mimetype": "text/x-python",
   "name": "python",
   "nbconvert_exporter": "python",
   "pygments_lexer": "ipython3",
   "version": "3.4.3"
  }
 },
 "nbformat": 4,
 "nbformat_minor": 2
}
