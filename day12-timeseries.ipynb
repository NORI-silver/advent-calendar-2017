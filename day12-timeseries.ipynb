{
 "cells": [
  {
   "cell_type": "code",
   "execution_count": null,
   "metadata": {
    "collapsed": true
   },
   "outputs": [],
   "source": [
    "import pandas as pd\n",
    "import numpy as np\n",
    "import matplotlib.pylab as plt\n",
    "%matplotlib inline\n",
    "from matplotlib.pylab import rcParams\n",
    "rcParams['figure.figsize'] = 15, 6"
   ]
  },
  {
   "cell_type": "markdown",
   "metadata": {},
   "source": [
    "### データの用意\n",
    "pandasを用いてデータを用意する\n",
    "使うデータは [International Airport Passengers](https://datamarket.com/data/set/22u3/international-airline-passengers-monthly-totals-in-thousands-jan-49-dec-60#!ds=22u3&display=line) "
   ]
  },
  {
   "cell_type": "code",
   "execution_count": null,
   "metadata": {},
   "outputs": [],
   "source": [
    "df = pd.read_csv('AirportPassengers.csv',delimiter=\";\").dropna(how=\"any\")\n",
    "# df.Passengers\n",
    "from datetime import datetime\n",
    "def str2time(string):\n",
    "    return datetime.strptime(string, '%Y-%m')\n",
    "df.index = df.Month.apply(str2time)\n",
    "df = df.drop([\"Month\"],axis=1)\n",
    "df.head()"
   ]
  },
  {
   "cell_type": "markdown",
   "metadata": {},
   "source": [
    "### 時系列の定常性チェック\n",
    "- 平均や分散がずっと一定なら**starionary(定常)**といえる\n",
    "- 多くの時系列モデルは**定常性**を仮定している\n",
    "\n",
    "定常性というのは厳格な基準があるが、実務上では下記の要素を定常性の条件としてもよいだろう\n",
    "- 一定の平均\n",
    "- 一定の分散\n",
    "- 時間に依存しない自己共分散\n"
   ]
  },
  {
   "cell_type": "code",
   "execution_count": null,
   "metadata": {},
   "outputs": [],
   "source": [
    "plt.plot(df.index,df.Passengers)"
   ]
  },
  {
   "cell_type": "markdown",
   "metadata": {},
   "source": [
    "**増加傾向**にあることがわかる。これだと平均や分散が一定とならないように見える。\n",
    "ちゃんと調べるために、下記の処理を施してみる\n",
    "\n",
    "1. moving averageやmoving distanceをとってみる(sliding window)今回は、季節変動的なのも吸収したいから12か月分\n",
    "1. Dickkey Fuller Testを用いる。定常性の統計検定である。[詳細](https://ja.wikipedia.org/wiki/%E3%83%87%E3%82%A3%E3%83%83%E3%82%AD%E3%83%BC%E2%80%93%E3%83%95%E3%83%A9%E3%83%BC%E6%A4%9C%E5%AE%9A)\n",
    "\n",
    "\n",
    "DF検定には、**`statsmodels`**という時系列用統計ライブラリを使う\n",
    "- そのままdfを入れるとエラーになるので、1d arrayを使う [(参考)]( https://stackoverflow.com/questions/43100441/i-am-trying-to-run-dickey-fuller-test-in-statsmodels-in-python-but-getting-error\n",
    ") \n",
    "\n",
    "- DF検定の結果の見方がいまいち不明なので、後で調べる。\n"
   ]
  },
  {
   "cell_type": "code",
   "execution_count": null,
   "metadata": {},
   "outputs": [],
   "source": [
    "from statsmodels.tsa.stattools import adfuller\n",
    "def test_stationarity(timeseries):\n",
    "    \n",
    "    #Determing rolling statistics\n",
    "    rolmean = timeseries.rolling(window=12).mean()\n",
    "    rolstd = timeseries.rolling(window=12).std()\n",
    "\n",
    "    #Plot rolling statistics:\n",
    "    orig = plt.plot(timeseries, color='blue',label='Original')\n",
    "    mean = plt.plot(rolmean, color='red', label='Rolling Mean')\n",
    "    std = plt.plot(rolstd, color='black', label = 'Rolling Std')\n",
    "    plt.legend(loc='best')\n",
    "    plt.title('Rolling Mean & Standard Deviation')\n",
    "    plt.show(block=False)\n",
    "    \n",
    "    #Perform Dickey-Fuller test:\n",
    "    print('Results of Dickey-Fuller Test:')\n",
    "#     dftest = adfuller(timeseries, autolag='AIC')\n",
    "    dftest = adfuller(timeseries)\n",
    "    dfoutput = pd.Series(dftest[0:4], index=['Test Statistic','p-value','#Lags Used','Number of Observations Used'])\n",
    "    for key,value in dftest[4].items():\n",
    "        dfoutput['Critical Value (%s)'%key] = value\n",
    "    print(dfoutput)\n",
    "array = df.Passengers.values\n",
    "test_stationarity(df.Passengers)\n"
   ]
  },
  {
   "cell_type": "markdown",
   "metadata": {},
   "source": [
    "### 時系列データを定常状態にしたい\n",
    "**トレンド**と**季節変動**をうまく取り除き、定常状態にしてやりたい。\n",
    "#### トレンドを予測して消す\n",
    "1. positiveトレンドのときは、大きい値にペナルティを与えるような変換をかける(累乗根、log)など\n",
    "1. トレンド成分を取り出す\n",
    "    - Aggregation : 週/月ごとにまとめた平均を取る\n",
    "    - Rolling : windowをスライドさせながら平均を取る(移動平均)\n",
    "    - Polynomial Fitting : 回帰でフィッティングさせる\n",
    "1. Originalからトレンド成分を引く\n",
    "1. テストをしてみる。\n",
    "\n",
    "> Also, the test statistic is smaller than the 5% critical values so we can say with 95% confidence that this is a stationary series.\n",
    "\n",
    "らしい"
   ]
  },
  {
   "cell_type": "code",
   "execution_count": null,
   "metadata": {
    "scrolled": true
   },
   "outputs": [],
   "source": [
    "# 1. log\n",
    "df[\"passengers_log\"] = np.log(df.Passengers)\n",
    "plt.plot(df.index, df.passengers_log)\n",
    "# df[\"passengers_sqrt\"] = np.sqrt(df.Passengers)\n",
    "# plt.plot(df.index, df.passengers_sqrt)\n",
    "# 2. eliminate noise\n",
    "df[\"moving_ave\"] = df.passengers_log.rolling(window=12).mean()\n",
    "# df[\"moving_medi\"] = df.passengers_log.rolling(window=12).median()\n",
    "df[\"log_ave_diff\"] = df.passengers_log - df.moving_ave\n",
    "plt.plot(df.index, df.moving_ave)\n",
    "# plt.plot(df.index, df.moving_medi)\n",
    "plt.figure()\n",
    "plt.plot(df.index, df.log_ave_diff)\n",
    "timeseries = df.log_ave_diff\n",
    "test_stationarity(timeseries.dropna())"
   ]
  },
  {
   "cell_type": "markdown",
   "metadata": {},
   "source": [
    "※ このトレンド除去の問題点は、**window幅に依存する**ところ。株価とかだったらどういう窓のサイズを使えばいいか微妙なところ。そこで、\n",
    "\n",
    ">\n",
    "-  weighted moving averageというのを使う。\n",
    "- 最近の値ほど大きな重み付けがされる\n",
    "- ポピュラーなものに**exponentially weighted moving average**がある\n",
    "\n",
    "> This TS has even lesser variations in mean and standard deviation in magnitude. Also, the test statistic is smaller than the 1% critical value, which is better than the previous case. Note that in this case there will be no missing values as all values from starting are given weights. So it’ll work even with no previous values.\n",
    "\n",
    " "
   ]
  },
  {
   "cell_type": "code",
   "execution_count": null,
   "metadata": {},
   "outputs": [],
   "source": [
    "df[\"expweighted_ave\"] = df.passengers_log.ewm(halflife=12).mean() #半減の時間\n",
    "plt.plot(df.index, df.passengers_log,label=\"original\")\n",
    "plt.plot(df.index, df.moving_ave,label=\"moving average\")\n",
    "plt.plot(df.index, df.expweighted_ave,label=\"exponentially weighted moving average\")\n",
    "plt.legend()\n",
    "plt.figure()\n",
    "timeseries = df.passengers_log - df.expweighted_ave\n",
    "test_stationarity(timeseries)"
   ]
  },
  {
   "cell_type": "markdown",
   "metadata": {},
   "source": [
    "### Seasonalityを消したい\n",
    "- Differencing : 特定のタイムラグを持たせて引く : df.shift()\n",
    "- Decomposition : trendとseasonalityをモデル化して一気に消す : statsmodels.tsa.seasonal.seasonal_deconpose"
   ]
  },
  {
   "cell_type": "code",
   "execution_count": null,
   "metadata": {},
   "outputs": [],
   "source": [
    "df.head()\n",
    "# differencing\n",
    "df[\"log_diff\"] = df.passengers_log - df.passengers_log.shift()\n",
    "plt.plot(df.index, df.log_diff)\n",
    "ts = df.log_diff.dropna()\n",
    "test_stationarity(ts)\n"
   ]
  },
  {
   "cell_type": "code",
   "execution_count": null,
   "metadata": {},
   "outputs": [],
   "source": [
    "# Decomposing\n",
    "from statsmodels.tsa.seasonal import seasonal_decompose\n",
    "decomposition = seasonal_decompose(df.passengers_log)\n",
    "\n",
    "trend = decomposition.trend\n",
    "seasonal = decomposition.seasonal\n",
    "residual = decomposition.resid #何コレ\n",
    "\n",
    "plt.subplot(411)\n",
    "plt.plot(df.passengers_log, label='Original')\n",
    "plt.legend(loc='best')\n",
    "plt.subplot(412)\n",
    "plt.plot(trend, label='Trend')\n",
    "plt.legend(loc='best')\n",
    "plt.subplot(413)\n",
    "plt.plot(seasonal,label='Seasonality')\n",
    "plt.legend(loc='best')\n",
    "plt.subplot(414)\n",
    "plt.plot(residual, label='Residuals')\n",
    "plt.legend(loc='best')\n",
    "plt.tight_layout()\n",
    "plt.figure()\n"
   ]
  },
  {
   "cell_type": "markdown",
   "metadata": {},
   "source": [
    "### 時系列のその後を予測する\n",
    "\n",
    "予測によく使われるARIMA(Auto-Regressive Integrated Moving Average)の説明と、実際に使ってみる。\n",
    "ARIMAは、ARモデルと、MAモデルを統合したモデルとなっている。\n",
    "\n",
    "ARIMAには、下記のパラメータを用いる\n",
    "\n",
    "- `p` (number of AR terms) : 自己回帰の窓幅を何個前まで取るか\n",
    "- `q` (number of moving average) : 移動平均の窓幅を何個前まで取るか\n",
    "- `d` (number of differences) : 一次の差分か二次の差分か\n",
    "p=0だとMA、q=0だとARモデルとできる。\n",
    "\n",
    "pとqを決めるための大事な量が**ACF(Autoorrelation Function**と**PACF(Partial ACF)**\n",
    "\n",
    "- p : **ACF**のupper confidential intervalがクロスするラインを選ぶ\n",
    "- q : **PACF**upper confidential intervalがクロスするラインを選ぶ"
   ]
  },
  {
   "cell_type": "code",
   "execution_count": null,
   "metadata": {},
   "outputs": [],
   "source": [
    "from statsmodels.tsa.stattools import acf, pacf\n",
    "ts = df.log_diff.dropna()\n",
    "lag_acf = acf(ts, nlags=20)\n",
    "lag_pacf = pacf(ts, nlags=20, method=\"ols\")\n",
    "#Plot ACF: \n",
    "plt.subplot(121) \n",
    "plt.plot(lag_acf)\n",
    "plt.axhline(y=0,linestyle='--',color='gray')\n",
    "plt.axhline(y=-1.96/np.sqrt(len(ts)),linestyle='--',color='gray')\n",
    "plt.axhline(y=1.96/np.sqrt(len(ts)),linestyle='--',color='gray')\n",
    "plt.title('Autocorrelation Function')\n",
    "#Plot PACF:\n",
    "plt.subplot(122)\n",
    "plt.plot(lag_pacf)\n",
    "plt.axhline(y=0,linestyle='--',color='gray')\n",
    "plt.axhline(y=-1.96/np.sqrt(len(ts)),linestyle='--',color='gray')\n",
    "plt.axhline(y=1.96/np.sqrt(len(ts)),linestyle='--',color='gray')\n",
    "plt.title('Partial Autocorrelation Function')\n",
    "plt.tight_layout()"
   ]
  },
  {
   "cell_type": "code",
   "execution_count": null,
   "metadata": {},
   "outputs": [],
   "source": [
    "# ARIMA model\n",
    "from statsmodels.tsa.arima_model import ARIMA\n",
    "ts = df.log_diff.dropna()\n",
    "model1 = ARIMA(ts, order=(2, 1, 0))  \n",
    "results_AR = model1.fit(disp=-1)  \n",
    "model2 = ARIMA(ts, order=(0, 1, 2))\n",
    "results_MA = model2.fit(disp=-1)\n",
    "model3 = ARIMA(ts,order=(2, 1, 2))\n",
    "results_ARIMA = model3.fit()\n",
    "\n",
    "plt.plot(ts)\n",
    "plt.plot(results_AR.fittedvalues,\"--\", color='red',alpha=0.8,label=\"AR\")\n",
    "plt.plot(results_MA.fittedvalues,\"--\", color=\"green\",alpha=0.8,label=\"MA\")\n",
    "plt.plot(results_ARIMA.fittedvalues,lw=2, color=\"blue\",label=\"ARIMA\")\n",
    "plt.xlim(\"1950\",\"1960\")\n",
    "plt.legend()\n",
    "# plt.title('RSS: %.4f'% sum((results_AR.fittedvalues-ts)**2))"
   ]
  },
  {
   "cell_type": "code",
   "execution_count": null,
   "metadata": {},
   "outputs": [],
   "source": [
    "def predict(name, results):\n",
    "    df[name] = pd.Series(results.fittedvalues)\n",
    "    df[\"predict_cumsum\"] = df[name].cumsum()\n",
    "    # 元に戻す\n",
    "    df[name] = df.predict_cumsum.fillna(0)+df.passengers_log\n",
    "    df[name] = np.exp(df[name])\n",
    "    df.head()\n",
    "    plt.plot(df.index, df.Passengers, label=\"Original\")\n",
    "    plt.plot(df.index, df[name],color=\"orange\",label=name)\n",
    "    plt.legend()\n",
    "    plt.show()\n",
    "predict(\"ARIMA\", results_ARIMA)\n",
    "predict(\"MA\", results_MA)\n",
    "predict(\"AR\",results_AR)"
   ]
  },
  {
   "cell_type": "markdown",
   "metadata": {},
   "source": [
    "### 評価する"
   ]
  },
  {
   "cell_type": "code",
   "execution_count": null,
   "metadata": {},
   "outputs": [],
   "source": [
    "df[[\"Passengers\",\"ARIMA\",\"MA\",\"AR\"]].head()"
   ]
  },
  {
   "cell_type": "code",
   "execution_count": null,
   "metadata": {},
   "outputs": [],
   "source": [
    "#評価値\n",
    "from sklearn.metrics import mean_squared_error\n",
    "print(\"ARIMA:\", np.sqrt(mean_squared_error(df.Passengers, df.ARIMA)))\n",
    "print(\"MA\", np.sqrt(mean_squared_error(df.Passengers, df.MA)))\n",
    "print(\"AR\", np.sqrt(mean_squared_error(df.Passengers, df.AR)))"
   ]
  }
 ],
 "metadata": {
  "kernelspec": {
   "display_name": "Python 3",
   "language": "python",
   "name": "python3"
  },
  "language_info": {
   "codemirror_mode": {
    "name": "ipython",
    "version": 3
   },
   "file_extension": ".py",
   "mimetype": "text/x-python",
   "name": "python",
   "nbconvert_exporter": "python",
   "pygments_lexer": "ipython3",
   "version": "3.6.1"
  }
 },
 "nbformat": 4,
 "nbformat_minor": 2
}
