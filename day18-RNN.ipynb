{
 "cells": [
  {
   "cell_type": "code",
   "execution_count": null,
   "metadata": {},
   "outputs": [],
   "source": [
    "%matplotlib inline\n",
    "import matplotlib.pyplot as plt\n",
    "import pandas as pd\n",
    "import numpy as np\n",
    "import keras"
   ]
  },
  {
   "cell_type": "markdown",
   "metadata": {},
   "source": [
    "## データ作り\n",
    "- BPTT(Back Propagation Through Time)も考えて、window幅をとった入力を予め用意\n",
    "    - 理想的には、時間全てをさかのぼってwを調整するのが良い\n",
    "    - けれど、**勾配消失/爆発**があるので、t = [10,100]くらい(通常のRNNの場合)\n",
    "    - `max_len`分のsliding windowにする"
   ]
  },
  {
   "cell_type": "code",
   "execution_count": null,
   "metadata": {},
   "outputs": [],
   "source": [
    "%matplotlib inline\n",
    "import matplotlib.pyplot as plt\n",
    "import pandas as pd\n",
    "import numpy as np\n",
    "import keras\n",
    "df = pd.read_csv(\"AirportPassengers.csv\",delimiter=\";\").dropna()\n",
    "data = []\n",
    "target = []\n",
    "max_len = 24\n",
    "dim = 1\n",
    "# 正規化\n",
    "maximum = df.Passengers.max()\n",
    "minimum = df.Passengers.min()\n",
    "df[\"Passengers\"] = (df.Passengers-minimum)/(maximum-minimum)\n",
    "# データを箱に入れる\n",
    "for i in range(len(df)-max_len-1):\n",
    "    data.append(df.Passengers.values[i:i+max_len])\n",
    "    target.append(df.Passengers.values[i+max_len+1])\n",
    "# データの整形\n",
    "data = np.array(data).reshape(len(data),max_len,dim)\n",
    "target = np.array(target).reshape(-1,1)\n",
    "# データの分割\n",
    "from sklearn.model_selection import train_test_split\n",
    "N_train = int(len(data)*0.7)\n",
    "N_test = len(data) - N_train\n",
    "X_train, X_validation, Y_train, Y_validation = train_test_split(data, target, test_size=N_test)\n"
   ]
  },
  {
   "cell_type": "markdown",
   "metadata": {},
   "source": [
    "## KerasでRNN\n",
    "構成\n"
   ]
  },
  {
   "cell_type": "code",
   "execution_count": null,
   "metadata": {},
   "outputs": [],
   "source": [
    "from keras.models import Sequential\n",
    "from keras.layers import  Dense\n",
    "#一番シンプルなやつ\n",
    "from keras.layers.recurrent import SimpleRNN\n",
    "from keras.layers.recurrent import LSTM, GRU #改良版\n",
    "model = Sequential()\n",
    "# ネットワーク構成\n",
    "input_shape=(max_len, dim)\n",
    "# model.add(SimpleRNN(units=64, kernel_initializer=\"random_uniform\",input_shape=input_shape))\n",
    "#model.add(LSTM(units=64, input_shape=input_shape))\n",
    "model.add(GRU(units=64, input_shape=input_shape))\n",
    "\n",
    "model.add(Dense(input_shape[1],activation=\"linear\"))\n",
    "# optimizerの設定\n",
    "from keras.optimizers import Adam\n",
    "model.compile(loss=\"mse\", optimizer=Adam())"
   ]
  },
  {
   "cell_type": "markdown",
   "metadata": {},
   "source": [
    "## 学習と予測"
   ]
  },
  {
   "cell_type": "code",
   "execution_count": null,
   "metadata": {},
   "outputs": [],
   "source": [
    "from keras.callbacks import EarlyStopping\n",
    "early_stopping = EarlyStopping(monitor='val_loss', patience=10, verbose=1)\n",
    "epochs = 50\n",
    "batch_size = 10\n",
    "model.fit(X_train, Y_train,\n",
    "          batch_size=batch_size, epochs=epochs,\n",
    "          validation_data=(X_validation, Y_validation))\n",
    "prediction = []\n",
    "data_in = data.reshape(data.shape[0],data.shape[1])[N_train]\n",
    "\n",
    "iteration = len(data) - N_train\n",
    "for _ in range(iteration):\n",
    "#     print(data_in)\n",
    "    pred = model.predict(data_in.reshape(1,-1,1))\n",
    "    data_in = np.delete(data_in, 0)\n",
    "    data_in = np.hstack((data_in, pred[0]))\n",
    "    prediction.append(pred[0,0])\n",
    "passenger = list(df.Passengers)\n",
    "data_num = len(passenger)\n",
    "plt.plot(passenger,label=\"original\")\n",
    "plt.plot(range(N_train+max_len+1, N_train+max_len+iteration+1), prediction,label=\"prediction\")\n",
    "plt.legend()"
   ]
  }
 ],
 "metadata": {
  "kernelspec": {
   "display_name": "Python 3",
   "language": "python",
   "name": "python3"
  },
  "language_info": {
   "codemirror_mode": {
    "name": "ipython",
    "version": 3
   },
   "file_extension": ".py",
   "mimetype": "text/x-python",
   "name": "python",
   "nbconvert_exporter": "python",
   "pygments_lexer": "ipython3",
   "version": "3.6.1"
  }
 },
 "nbformat": 4,
 "nbformat_minor": 2
}
